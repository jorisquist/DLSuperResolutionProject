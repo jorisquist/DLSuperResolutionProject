{
  "nbformat": 4,
  "nbformat_minor": 0,
  "metadata": {
    "accelerator": "GPU",
    "colab": {
      "name": "SuperResolution.ipynb",
      "provenance": [],
      "collapsed_sections": [],
      "toc_visible": true
    },
    "kernelspec": {
      "display_name": "Python 3",
      "language": "python",
      "name": "python3"
    },
    "language_info": {
      "codemirror_mode": {
        "name": "ipython",
        "version": 3
      },
      "file_extension": ".py",
      "mimetype": "text/x-python",
      "name": "python",
      "nbconvert_exporter": "python",
      "pygments_lexer": "ipython3",
      "version": "3.7.6"
    },
    "pycharm": {
      "stem_cell": {
        "cell_type": "raw",
        "metadata": {
          "collapsed": false
        },
        "source": []
      }
    }
  },
  "cells": [
    {
      "cell_type": "markdown",
      "metadata": {
        "colab_type": "text",
        "id": "dszZp3-0TlDX"
      },
      "source": [
        "# Real-Time Single Image and Video Super-Resolution Using an Efficient Sub-Pixel Convolutional Neural Network\n",
        "\n",
        "In this notebook we reproduce some results of the Super Resolution paper [1] in PyTorch.\n",
        "\n",
        "[1] Ledig, C., Theis, L., Huszár, F., Caballero, J., Cunningham, A., Acosta, A., ... & Shi, W. (2017). Photo-realistic single image super-resolution using a generative adversarial network. In _Proceedings of the IEEE conference on computer vision and pattern recognition (pp. 4681-4690)_."
      ]
    },
    {
      "cell_type": "markdown",
      "metadata": {
        "colab_type": "text",
        "id": "Mi7a5iu6vHg6"
      },
      "source": [
        "## Pre-processing: Loading datasets\n",
        "In a first step we download all the required datasets."
      ]
    },
    {
      "cell_type": "code",
      "metadata": {
        "colab_type": "code",
        "id": "IB7wrWhfTkwh",
        "pycharm": {
          "is_executing": true
        },
        "colab": {}
      },
      "source": [
        "import requests\n",
        "\n",
        "url_91 = (\"https://drive.google.com/uc?export=download&id=1eVfd2Snh5bCl0ulMsRE4ker_p-o1M_lm\")\n",
        "url_set5 = (\"https://drive.google.com/uc?export=download&id=1Cr4puJ1UpkXrGpzdpqZLNhZiZ2vaimoi\")\n",
        "url_set14 = (\"https://drive.google.com/uc?export=download&id=1PQus6Glc3VsfVIywG6MAMBBBZVyyF_gB\")\n",
        "url_BSD300 = (\"https://github.com/jorisquist/DLSuperResolutionProject/raw/master/BSD300.zip\")\n",
        "url_BSD500 = (\"https://github.com/jorisquist/DLSuperResolutionProject/raw/master/BSD500.zip\")\n",
        "url_SuperTexture = (\"https://github.com/jorisquist/DLSuperResolutionProject/raw/master/SuperTexture.zip\")\n",
        "\n",
        "\n",
        "# Download data from Google drive and store as zip.\n",
        "def download_url(url, save_path, chunk_size=128):\n",
        "    r = requests.get(url, stream=True)\n",
        "    with open(save_path, \"wb\") as fd:\n",
        "        for chunk in r.iter_content(chunk_size=chunk_size):\n",
        "            fd.write(chunk)\n",
        "\n",
        "\n",
        "download_url(url_91, \"./91.zip\")\n",
        "download_url(url_set5, \"./set5.zip\")\n",
        "download_url(url_set14, \"./set14.zip\")\n",
        "download_url(url_BSD300, \"./BSD300.zip\")\n",
        "download_url(url_BSD500, \"./BSD500.zip\")\n",
        "download_url(url_SuperTexture, \"./SuperTexture.zip\")\n",
        "\n",
        "from zipfile import ZipFile\n",
        "\n",
        "with ZipFile(\"91.zip\", \"r\") as zipObj:\n",
        "    zipObj.extractall(\"./train_data\")\n",
        "\n",
        "with ZipFile(\"set5.zip\", \"r\") as zipObj:\n",
        "    zipObj.extractall(\"./test_data\")\n",
        "\n",
        "with ZipFile(\"set14.zip\", \"r\") as zipObj:\n",
        "    zipObj.extractall(\"./test_data\")\n",
        "\n",
        "with ZipFile(\"BSD300.zip\", \"r\") as zipObj:\n",
        "    zipObj.extractall(\"./test_data\")\n",
        "\n",
        "with ZipFile(\"BSD500.zip\", \"r\") as zipObj:\n",
        "    zipObj.extractall(\"./test_data\")\n",
        "\n",
        "with ZipFile(\"SuperTexture.zip\", \"r\") as zipObj:\n",
        "    zipObj.extractall(\"./test_data\")\n"
      ],
      "execution_count": 0,
      "outputs": []
    },
    {
      "cell_type": "markdown",
      "metadata": {
        "id": "JKD73Y5EBLHC",
        "colab_type": "text"
      },
      "source": [
        "## Pre-processing: Prepare trainingset\n",
        "We load in the training set using our custom loader. This loader also up/downscales the images."
      ]
    },
    {
      "cell_type": "code",
      "metadata": {
        "pycharm": {
          "is_executing": true
        },
        "id": "RAAvHmo_BLHE",
        "colab_type": "code",
        "colab": {}
      },
      "source": [
        "from skimage import io\n",
        "from os import listdir\n",
        "from torch.utils.data import Dataset\n",
        "import torchvision\n",
        "import torchvision.transforms as transforms\n",
        "import matplotlib.pyplot as plt\n",
        "import numpy as np\n",
        "import PIL\n",
        "\n",
        "\n",
        "class SuperResolutionDataset(Dataset):\n",
        "    def __init__(self, root_dir, upscale_factor, use_gpu=False, testing=False):\n",
        "        self.testing = testing \n",
        "        self.use_gpu = use_gpu\n",
        "        self.root_dir = root_dir\n",
        "        self.upscale_factor = upscale_factor\n",
        "        self.images = [\n",
        "            f\n",
        "            for f in listdir(self.root_dir)\n",
        "            if f.endswith(\".bmp\") or f.endswith(\".jpg\")\n",
        "        ]\n",
        "        self.data = list()\n",
        "        for image_name in self.images:\n",
        "            self.data = self.data + self.get_data_from_image(image_name)\n",
        "            \n",
        "        if use_gpu:\n",
        "            for i in range(len(self.data)):\n",
        "                self.data[i] = (self.data[i][0].cuda(), self.data[i][1].cuda())\n",
        "                \n",
        "        \n",
        "    def __len__(self):\n",
        "        return len(self.data)\n",
        "\n",
        "    def __getitem__(self, item):\n",
        "        return self.data[item]\n",
        "\n",
        "    def get_data_from_image(self, image_name):\n",
        "        image = io.imread(self.root_dir + \"/\" + image_name)\n",
        "\n",
        "        h, w = len(image), len(image[0])\n",
        "        cropped_h = h - (h % self.upscale_factor)\n",
        "        cropped_w = w - (w % self.upscale_factor)\n",
        "\n",
        "        target_transform = transforms.Compose([\n",
        "            transforms.ToPILImage(),\n",
        "            transforms.CenterCrop([cropped_h, cropped_w]),\n",
        "            transforms.ToTensor(),\n",
        "        ])\n",
        "\n",
        "        input_transform = transforms.Compose([\n",
        "            transforms.ToPILImage(),\n",
        "            transforms.CenterCrop([cropped_h, cropped_w]),\n",
        "            transforms.Resize(\n",
        "                [\n",
        "                    int(cropped_h // self.upscale_factor),\n",
        "                    int(cropped_w // self.upscale_factor),\n",
        "                ],\n",
        "                PIL.Image.BICUBIC,\n",
        "            ),\n",
        "            transforms.ToTensor(),\n",
        "        ])\n",
        "\n",
        "        input_tensor = input_transform(image)\n",
        "        target_tensor = target_transform(image)\n",
        "\n",
        "\n",
        "        if self.testing:\n",
        "          data = list()\n",
        "          data.append((input_tensor, target_tensor))\n",
        "          return data\n",
        "\n",
        "        else:\n",
        "          target_size = 17*self.upscale_factor # patch size\n",
        "          target_stride = 17*self.upscale_factor # patch stride\n",
        "          target_patches = target_tensor.unfold(1, target_size, target_stride).unfold(2, target_size, target_stride)\n",
        "\n",
        "          input_patches = input_tensor.unfold(1, 17, 17).unfold(2, 17, 17)\n",
        "          \n",
        "          data = list()\n",
        "          # target_image = patches[:, 0, 0, :, :]\n",
        "          for i in range(input_patches.shape[1]):\n",
        "            for j in range(input_patches.shape[2]):\n",
        "\n",
        "              # During training we can skip the deconvolution layer if we do a reverse deconvolution on the targets\n",
        "              if not self.testing:\n",
        "                target = target_patches[:, i, j, :, :]\n",
        "                target = target.unsqueeze(0)\n",
        "                target = self.inverse_deconvolution(target, self.upscale_factor)\n",
        "                target = target.squeeze()\n",
        "\n",
        "              data.append((input_patches[:, i, j, :, :], target))\n",
        "\n",
        "          return data\n",
        "\n",
        "    def inverse_deconvolution(self, x, r):\n",
        "      [B, C, H, W] = list(x.size())\n",
        "      x = x.reshape(B, C, H//r, r, W//r, r)\n",
        "      x = x.permute(0, 1, 3, 5, 2, 4)\n",
        "      x = x.reshape(B, C*(r**2), H//r, W//r)\n",
        "      return x\n",
        "\n",
        "    def imshow(self, img):\n",
        "        img = torchvision.utils.make_grid(img)\n",
        "        npimg = img.numpy()\n",
        "        plt.imshow(np.transpose(npimg, (1, 2, 0)))\n",
        "        plt.show()\n",
        "\n",
        "    def imshow_input(self, idx):\n",
        "        img, _ = self.__getitem__(idx)\n",
        "        img = torchvision.utils.make_grid(img)\n",
        "        npimg = img.numpy()\n",
        "        plt.imshow(np.transpose(npimg, (1, 2, 0)))\n",
        "        plt.show()\n",
        "\n",
        "    def imshow_target(self, idx):\n",
        "        _, img = self.__getitem__(idx)\n",
        "        img = torchvision.utils.make_grid(img)\n",
        "        npimg = img.numpy()\n",
        "        plt.imshow(np.transpose(npimg, (1, 2, 0)))\n",
        "        plt.show()\n"
      ],
      "execution_count": 0,
      "outputs": []
    },
    {
      "cell_type": "markdown",
      "metadata": {
        "id": "12AlbJGwBLHL",
        "colab_type": "text"
      },
      "source": [
        "The goal of this Deep Learning network is to upscale the image resolution. Therefore for our training set we first downscale the input. In the example below you see the input image for different upscale factors (4 and 3 respectively) whereas the target image is the image we want to retrieve in the end."
      ]
    },
    {
      "cell_type": "code",
      "metadata": {
        "pycharm": {
          "is_executing": true
        },
        "id": "LqAVTkQXBLHN",
        "colab_type": "code",
        "outputId": "e1471f2c-ef15-4bb6-8ac8-c2b0ae5978e0",
        "colab": {
          "base_uri": "https://localhost:8080/",
          "height": 547
        }
      },
      "source": [
        "trainExample4 = SuperResolutionDataset(\"train_data/Set91\", 4)\n",
        "print(\"Input image (Up-scale factor 4): \")\n",
        "trainExample4.imshow_input(0)\n",
        "\n",
        "trainExample3 = SuperResolutionDataset(\"train_data/Set91\", 3)\n",
        "print(\"Input image (Up-scale factor 3): \")\n",
        "trainExample3.imshow_input(0)"
      ],
      "execution_count": 272,
      "outputs": [
        {
          "output_type": "stream",
          "text": [
            "Input image (Up-scale factor 4): \n"
          ],
          "name": "stdout"
        },
        {
          "output_type": "display_data",
          "data": {
            "image/png": "[encoded data removed]",
            "text/plain": [
              "<Figure size 432x288 with 1 Axes>"
            ]
          },
          "metadata": {
            "tags": [],
            "needs_background": "light"
          }
        },
        {
          "output_type": "stream",
          "text": [
            "Input image (Up-scale factor 3): \n"
          ],
          "name": "stdout"
        },
        {
          "output_type": "display_data",
          "data": {
            "image/png": "[encoded data removed]",
            "text/plain": [
              "<Figure size 432x288 with 1 Axes>"
            ]
          },
          "metadata": {
            "tags": [],
            "needs_background": "light"
          }
        }
      ]
    },
    {
      "cell_type": "code",
      "metadata": {
        "pycharm": {
          "is_executing": true
        },
        "id": "ApjK2cmFBLHT",
        "colab_type": "code",
        "outputId": "cab0dfe7-36fb-491d-aeae-8882aaae3cb3",
        "colab": {
          "base_uri": "https://localhost:8080/",
          "height": 284
        }
      },
      "source": [
        "print(\"Target image: \")\n",
        "trainExample3.imshow_target(0)"
      ],
      "execution_count": 0,
      "outputs": [
        {
          "output_type": "stream",
          "text": [
            "Target image: \n"
          ],
          "name": "stdout"
        },
        {
          "output_type": "display_data",
          "data": {
            "image/png": "[encoded data removed]",
            "text/plain": [
              "<Figure size 432x288 with 1 Axes>"
            ]
          },
          "metadata": {
            "tags": [],
            "needs_background": "light"
          }
        }
      ]
    },
    {
      "cell_type": "markdown",
      "metadata": {
        "id": "jYr4OXxQBLHY",
        "colab_type": "text"
      },
      "source": [
        "## Network Architecture"
      ]
    },
    {
      "cell_type": "code",
      "metadata": {
        "pycharm": {
          "is_executing": true
        },
        "id": "ZnrN7VNRBLHZ",
        "colab_type": "code",
        "colab": {}
      },
      "source": [
        "import torch.nn as nn\n",
        "import torch\n",
        "\n",
        "class SuperResolutionNet(nn.Module):\n",
        "    def __init__(self, r, activation=nn.Identity()):\n",
        "        super().__init__()\n",
        "        self.r = r\n",
        "        self.activation = activation\n",
        "\n",
        "        self.deconvolution = nn.PixelShuffle(self.r)\n",
        "\n",
        "        self.layers = nn.ModuleList([\n",
        "            nn.Conv2d(3, 64, 5, padding=2),\n",
        "            nn.Conv2d(64, 64, 3, padding=1),\n",
        "            nn.Conv2d(64, 32, 3, padding=1),\n",
        "        ])\n",
        "\n",
        "        self.last_layer = nn.Conv2d(32, self.r * self.r * 3, 3, padding=1)\n",
        "\n",
        "        # self.params = list(self.layers.parameters())\n",
        "\n",
        "        self.l = len(self.layers) - 1  # The number of hidden layers\n",
        "\n",
        "    def forward(self, x):\n",
        "        for layer in self.layers:\n",
        "            x = self.activation(layer(x))\n",
        "\n",
        "        x = self.last_layer(x)  # Don't use the activation on the last convolutional layer\n",
        "\n",
        "        if not self.training:\n",
        "          x = self.deconvolution(x)\n",
        "\n",
        "        return x"
      ],
      "execution_count": 0,
      "outputs": []
    },
    {
      "cell_type": "markdown",
      "metadata": {
        "id": "aIRe7RhFBLHg",
        "colab_type": "text"
      },
      "source": [
        "## Training Network\n",
        "Function to train a certain network with a certain data loader and hyperparameters"
      ]
    },
    {
      "cell_type": "code",
      "metadata": {
        "id": "FfFaDMHRBLHh",
        "colab_type": "code",
        "colab": {}
      },
      "source": [
        "import os\n",
        "import time\n",
        "import math\n",
        "import datetime\n",
        "\n",
        "from torch import optim\n",
        "from . import SuperResolutionNet\n",
        "\n",
        "def mse_to_psnr(mse):\n",
        "    return 10 * math.log10(1. / mse)\n",
        "\n",
        "def train(net, use_gpu, train_loader, r,\n",
        "          learning_rate=0.01,\n",
        "          max_epochs_without_improvement=100,\n",
        "          max_epochs=30000,\n",
        "          print_output=True,\n",
        "          momentum=0.9,\n",
        "          learning_rate_factor=0.99,\n",
        "          learning_rate_abs=0.00001,\n",
        "          beta1=0.9,\n",
        "          beta2=0.999):\n",
        "\n",
        "    # Decide to use GPU or not.\n",
        "    if use_gpu:\n",
        "        net = net.cuda()\n",
        "        if print_output:\n",
        "          print('Running on gpu')\n",
        "\n",
        "    # Set loss function and optimizer.\n",
        "    loss_function = nn.MSELoss()\n",
        "\n",
        "    optimizer = optim.Adam(\n",
        "    [\n",
        "        {\"params\": net.layers.parameters()},\n",
        "        {\"params\": net.last_layer.parameters(), \"lr\": learning_rate/10},\n",
        "    ],\n",
        "    lr=learning_rate,\n",
        ")\n",
        "\n",
        "    # Save computer name to use when storing network\n",
        "    computer_name = \"unknown\"\n",
        "    try:\n",
        "      computer_name = os.environ['COMPUTERNAME']\n",
        "    except:\n",
        "      pass\n",
        "\n",
        "    # Initialize loss.\n",
        "    lowest_loss = (0, float('inf'))\n",
        "    previous_loss = float('inf')\n",
        "    highest_psnr = - float('inf')\n",
        "\n",
        "    begin_time = time.time()\n",
        "    minimum_psnr_to_save = 20\n",
        "\n",
        "    # Start training.\n",
        "    for epoch in range(max_epochs):\n",
        "        train_loss = []\n",
        "\n",
        "        # Train and propagate through network.\n",
        "        net.train()\n",
        "        for input, target in train_loader:\n",
        "\n",
        "            optimizer.zero_grad()\n",
        "\n",
        "            output = net(input)\n",
        "            loss = loss_function(output, target)\n",
        "            loss.backward()\n",
        "            optimizer.step()\n",
        "\n",
        "            train_loss.append(loss.item())\n",
        "\n",
        "        mean_train_loss = np.mean(train_loss)\n",
        "        mean_psnr = mse_to_psnr(mean_train_loss)\n",
        "\n",
        "        if previous_loss - mean_train_loss < 0:\n",
        "          old_learning_rate = optimizer.param_groups[0]['lr']\n",
        "          optimizer.param_groups[0]['lr']\n",
        "          new_learning_rate = max(0.0001, learning_rate_factor * old_learning_rate - learning_rate_abs)\n",
        "          optimizer.param_groups[0]['lr'] = new_learning_rate\n",
        "\n",
        "          # Learning rate of the last layer should be 10 times lower\n",
        "          optimizer.param_groups[1]['lr'] = new_learning_rate/10\n",
        "\n",
        "\n",
        "        previous_loss = mean_train_loss\n",
        "          \n",
        "\n",
        "        # Update the lowest loss if necessary.\n",
        "        if mean_train_loss < lowest_loss[1]:\n",
        "            #print(f\"Epoch: {epoch: >3} Training Loss: {mean_train_loss:.6f} Mean PSNR: {mean_psnr:.2f} in {time.time() - begin_time:.2f}s #\")\n",
        "            lowest_loss = (epoch, mean_train_loss)\n",
        "            highest_psnr = mean_psnr\n",
        "          \n",
        "\n",
        "            #If the psnr is above some threshold save this new best network.\n",
        "            if highest_psnr > minimum_psnr_to_save:\n",
        "                torch.save(net, f'SuperResulutionNet_best_of_run-{computer_name}')\n",
        "\n",
        "        if epoch % 10 == 0 and print_output:\n",
        "          \n",
        "            print(\n",
        "              f\"Epoch: {epoch: >3} in {str(datetime.timedelta(seconds=int(time.time() - begin_time)))}, best epoch so far: Epoch: {lowest_loss[0]: >3} Training Loss: {lowest_loss[1]:.6f} Mean PSNR: {highest_psnr:.2f}, lr={ optimizer.param_groups[0]['lr']:.5f}\")\n",
        "\n",
        "\n",
        "        # If we didn't improve for some amount of epoch, lets stop.\n",
        "        if epoch > lowest_loss[0] + max_epochs_without_improvement:\n",
        "            if print_output:\n",
        "                print(f\"No improvement for the last {max_epochs_without_improvement} epochs, so stopping training...\")\n",
        "            break\n",
        "\n",
        "    net.eval()\n",
        "    if highest_psnr >= minimum_psnr_to_save:\n",
        "        network_name = f'SuperResulutionNet_r-{r}_psnr-{int(round(highest_psnr * 100))}__mse-{int(round(lowest_loss[1] * 10000))}-{computer_name}'\n",
        "        old_file = os.path.join(\".\", f'SuperResulutionNet_best_of_run-{computer_name}')\n",
        "        new_file = os.path.join(\".\", network_name)\n",
        "        if print_output:\n",
        "            print(f'Saving best epoch ({lowest_loss[0]}) with loss: {lowest_loss[1]} and psnr: {highest_psnr} as:')\n",
        "            print(network_name)\n",
        "        os.rename(old_file, new_file)\n",
        "    elif print_output:\n",
        "        print(\"Not high enough psnr to save the network...\")\n",
        "\n",
        "    return lowest_loss[1]"
      ],
      "execution_count": 0,
      "outputs": []
    },
    {
      "cell_type": "code",
      "metadata": {
        "pycharm": {
          "is_executing": true
        },
        "id": "1CywEXwxBLHo",
        "colab_type": "code",
        "outputId": "dcd358af-ac28-4f64-8ecc-0d97ee4a5f66",
        "colab": {
          "base_uri": "https://localhost:8080/",
          "height": 1000
        }
      },
      "source": [
        "use_gpu = torch.cuda.is_available()\n",
        "\n",
        "# Batch size.\n",
        "bs = 16\n",
        "\n",
        "# Upscale factor.\n",
        "r = 3\n",
        "\n",
        "# Amount of epochs.\n",
        "epochs = 20\n",
        "\n",
        "# Getting image data\n",
        "transform = transforms.Compose([transforms.ToTensor()])  # ,\n",
        "\n",
        "# Load the training data.\n",
        "training_set = SuperResolutionDataset(\"train_data/Set91\", r, use_gpu=use_gpu)\n",
        "\n",
        "train_loader = torch.utils.data.DataLoader(training_set, batch_size=bs, shuffle=True)\n",
        "\n",
        "# Initialize the network.\n",
        "net = SuperResolutionNet(r, activation=nn.ReLU())\n",
        "\n",
        "train(net, use_gpu, train_loader, r)"
      ],
      "execution_count": 291,
      "outputs": [
        {
          "output_type": "stream",
          "text": [
            "Epoch:  50 in 0:00:10, best epoch so far: Epoch:  50 Training Loss: 0.006712 Mean PSNR: 21.73, lr=0.01000\n",
            "Epoch:  60 in 0:00:12, best epoch so far: Epoch:  60 Training Loss: 0.006247 Mean PSNR: 22.04, lr=0.01000\n",
            "Epoch:  70 in 0:00:14, best epoch so far: Epoch:  70 Training Loss: 0.005872 Mean PSNR: 22.31, lr=0.01000\n",
            "Epoch:  80 in 0:00:16, best epoch so far: Epoch:  80 Training Loss: 0.005582 Mean PSNR: 22.53, lr=0.01000\n",
            "Epoch:  90 in 0:00:18, best epoch so far: Epoch:  90 Training Loss: 0.005317 Mean PSNR: 22.74, lr=0.01000\n",
            "Epoch: 100 in 0:00:20, best epoch so far: Epoch: 100 Training Loss: 0.005090 Mean PSNR: 22.93, lr=0.01000\n",
            "Epoch: 110 in 0:00:22, best epoch so far: Epoch: 110 Training Loss: 0.004880 Mean PSNR: 23.12, lr=0.00999\n",
            "Epoch: 120 in 0:00:24, best epoch so far: Epoch: 120 Training Loss: 0.004698 Mean PSNR: 23.28, lr=0.00999\n",
            "Epoch: 130 in 0:00:26, best epoch so far: Epoch: 130 Training Loss: 0.004534 Mean PSNR: 23.43, lr=0.00998\n",
            "Epoch: 140 in 0:00:28, best epoch so far: Epoch: 139 Training Loss: 0.004413 Mean PSNR: 23.55, lr=0.00996\n",
            "Epoch: 150 in 0:00:30, best epoch so far: Epoch: 150 Training Loss: 0.004277 Mean PSNR: 23.69, lr=0.00994\n",
            "Epoch: 160 in 0:00:33, best epoch so far: Epoch: 159 Training Loss: 0.004171 Mean PSNR: 23.80, lr=0.00990\n",
            "Epoch: 170 in 0:00:35, best epoch so far: Epoch: 170 Training Loss: 0.004076 Mean PSNR: 23.90, lr=0.00990\n",
            "Epoch: 180 in 0:00:37, best epoch so far: Epoch: 180 Training Loss: 0.003988 Mean PSNR: 23.99, lr=0.00988\n",
            "Epoch: 190 in 0:00:39, best epoch so far: Epoch: 190 Training Loss: 0.003904 Mean PSNR: 24.08, lr=0.00985\n",
            "Epoch: 200 in 0:00:41, best epoch so far: Epoch: 200 Training Loss: 0.003828 Mean PSNR: 24.17, lr=0.00984\n",
            "Epoch: 210 in 0:00:43, best epoch so far: Epoch: 210 Training Loss: 0.003763 Mean PSNR: 24.24, lr=0.00983\n",
            "Epoch: 220 in 0:00:45, best epoch so far: Epoch: 220 Training Loss: 0.003704 Mean PSNR: 24.31, lr=0.00981\n",
            "Epoch: 230 in 0:00:47, best epoch so far: Epoch: 230 Training Loss: 0.003645 Mean PSNR: 24.38, lr=0.00976\n",
            "Epoch: 240 in 0:00:49, best epoch so far: Epoch: 240 Training Loss: 0.003597 Mean PSNR: 24.44, lr=0.00975\n",
            "Epoch: 250 in 0:00:51, best epoch so far: Epoch: 250 Training Loss: 0.003544 Mean PSNR: 24.50, lr=0.00974\n",
            "Epoch: 260 in 0:00:53, best epoch so far: Epoch: 260 Training Loss: 0.003500 Mean PSNR: 24.56, lr=0.00973\n",
            "Epoch: 270 in 0:00:55, best epoch so far: Epoch: 270 Training Loss: 0.003457 Mean PSNR: 24.61, lr=0.00972\n",
            "Epoch: 280 in 0:00:57, best epoch so far: Epoch: 279 Training Loss: 0.003416 Mean PSNR: 24.66, lr=0.00970\n",
            "Epoch: 290 in 0:00:59, best epoch so far: Epoch: 290 Training Loss: 0.003379 Mean PSNR: 24.71, lr=0.00968\n",
            "Epoch: 300 in 0:01:01, best epoch so far: Epoch: 300 Training Loss: 0.003348 Mean PSNR: 24.75, lr=0.00965\n",
            "Epoch: 310 in 0:01:03, best epoch so far: Epoch: 310 Training Loss: 0.003304 Mean PSNR: 24.81, lr=0.00962\n",
            "Epoch: 320 in 0:01:05, best epoch so far: Epoch: 320 Training Loss: 0.003276 Mean PSNR: 24.85, lr=0.00959\n",
            "Epoch: 330 in 0:01:07, best epoch so far: Epoch: 330 Training Loss: 0.003248 Mean PSNR: 24.88, lr=0.00954\n",
            "Epoch: 340 in 0:01:10, best epoch so far: Epoch: 340 Training Loss: 0.003213 Mean PSNR: 24.93, lr=0.00951\n",
            "Epoch: 350 in 0:01:12, best epoch so far: Epoch: 350 Training Loss: 0.003184 Mean PSNR: 24.97, lr=0.00948\n",
            "Epoch: 360 in 0:01:14, best epoch so far: Epoch: 359 Training Loss: 0.003162 Mean PSNR: 25.00, lr=0.00945\n",
            "Epoch: 370 in 0:01:16, best epoch so far: Epoch: 369 Training Loss: 0.003132 Mean PSNR: 25.04, lr=0.00940\n",
            "Epoch: 380 in 0:01:18, best epoch so far: Epoch: 380 Training Loss: 0.003105 Mean PSNR: 25.08, lr=0.00937\n",
            "Epoch: 390 in 0:01:20, best epoch so far: Epoch: 390 Training Loss: 0.003086 Mean PSNR: 25.11, lr=0.00934\n",
            "Epoch: 400 in 0:01:22, best epoch so far: Epoch: 398 Training Loss: 0.003068 Mean PSNR: 25.13, lr=0.00930\n",
            "Epoch: 410 in 0:01:24, best epoch so far: Epoch: 410 Training Loss: 0.003050 Mean PSNR: 25.16, lr=0.00925\n",
            "Epoch: 420 in 0:01:26, best epoch so far: Epoch: 420 Training Loss: 0.003026 Mean PSNR: 25.19, lr=0.00922\n",
            "Epoch: 430 in 0:01:28, best epoch so far: Epoch: 430 Training Loss: 0.003010 Mean PSNR: 25.21, lr=0.00919\n",
            "Epoch: 440 in 0:01:30, best epoch so far: Epoch: 438 Training Loss: 0.002992 Mean PSNR: 25.24, lr=0.00914\n",
            "Epoch: 450 in 0:01:32, best epoch so far: Epoch: 450 Training Loss: 0.002972 Mean PSNR: 25.27, lr=0.00911\n",
            "Epoch: 460 in 0:01:34, best epoch so far: Epoch: 460 Training Loss: 0.002951 Mean PSNR: 25.30, lr=0.00906\n",
            "Epoch: 470 in 0:01:36, best epoch so far: Epoch: 470 Training Loss: 0.002939 Mean PSNR: 25.32, lr=0.00904\n",
            "Epoch: 480 in 0:01:38, best epoch so far: Epoch: 479 Training Loss: 0.002926 Mean PSNR: 25.34, lr=0.00900\n",
            "Epoch: 490 in 0:01:40, best epoch so far: Epoch: 488 Training Loss: 0.002914 Mean PSNR: 25.36, lr=0.00897\n",
            "Epoch: 500 in 0:01:42, best epoch so far: Epoch: 496 Training Loss: 0.002898 Mean PSNR: 25.38, lr=0.00892\n",
            "Epoch: 510 in 0:01:44, best epoch so far: Epoch: 510 Training Loss: 0.002887 Mean PSNR: 25.40, lr=0.00889\n",
            "Epoch: 520 in 0:01:46, best epoch so far: Epoch: 517 Training Loss: 0.002870 Mean PSNR: 25.42, lr=0.00884\n",
            "Epoch: 530 in 0:01:48, best epoch so far: Epoch: 530 Training Loss: 0.002855 Mean PSNR: 25.44, lr=0.00880\n",
            "Epoch: 540 in 0:01:50, best epoch so far: Epoch: 537 Training Loss: 0.002846 Mean PSNR: 25.46, lr=0.00875\n",
            "Epoch: 550 in 0:01:52, best epoch so far: Epoch: 550 Training Loss: 0.002830 Mean PSNR: 25.48, lr=0.00871\n",
            "Epoch: 560 in 0:01:54, best epoch so far: Epoch: 558 Training Loss: 0.002825 Mean PSNR: 25.49, lr=0.00865\n",
            "Epoch: 570 in 0:01:56, best epoch so far: Epoch: 568 Training Loss: 0.002814 Mean PSNR: 25.51, lr=0.00861\n",
            "Epoch: 580 in 0:01:58, best epoch so far: Epoch: 578 Training Loss: 0.002800 Mean PSNR: 25.53, lr=0.00856\n",
            "Epoch: 590 in 0:02:00, best epoch so far: Epoch: 590 Training Loss: 0.002790 Mean PSNR: 25.54, lr=0.00854\n",
            "Epoch: 600 in 0:02:02, best epoch so far: Epoch: 598 Training Loss: 0.002785 Mean PSNR: 25.55, lr=0.00849\n",
            "Epoch: 610 in 0:02:04, best epoch so far: Epoch: 605 Training Loss: 0.002775 Mean PSNR: 25.57, lr=0.00843\n",
            "Epoch: 620 in 0:02:06, best epoch so far: Epoch: 620 Training Loss: 0.002767 Mean PSNR: 25.58, lr=0.00839\n",
            "Epoch: 630 in 0:02:09, best epoch so far: Epoch: 629 Training Loss: 0.002755 Mean PSNR: 25.60, lr=0.00835\n",
            "Epoch: 640 in 0:02:11, best epoch so far: Epoch: 638 Training Loss: 0.002747 Mean PSNR: 25.61, lr=0.00831\n",
            "Epoch: 650 in 0:02:13, best epoch so far: Epoch: 648 Training Loss: 0.002740 Mean PSNR: 25.62, lr=0.00825\n",
            "Epoch: 660 in 0:02:15, best epoch so far: Epoch: 655 Training Loss: 0.002734 Mean PSNR: 25.63, lr=0.00820\n",
            "Epoch: 670 in 0:02:17, best epoch so far: Epoch: 666 Training Loss: 0.002728 Mean PSNR: 25.64, lr=0.00816\n",
            "Epoch: 680 in 0:02:19, best epoch so far: Epoch: 679 Training Loss: 0.002714 Mean PSNR: 25.66, lr=0.00812\n",
            "Epoch: 690 in 0:02:21, best epoch so far: Epoch: 690 Training Loss: 0.002709 Mean PSNR: 25.67, lr=0.00808\n",
            "Epoch: 700 in 0:02:23, best epoch so far: Epoch: 698 Training Loss: 0.002704 Mean PSNR: 25.68, lr=0.00804\n",
            "Epoch: 710 in 0:02:25, best epoch so far: Epoch: 710 Training Loss: 0.002694 Mean PSNR: 25.70, lr=0.00800\n",
            "Epoch: 720 in 0:02:27, best epoch so far: Epoch: 719 Training Loss: 0.002689 Mean PSNR: 25.70, lr=0.00796\n",
            "Epoch: 730 in 0:02:29, best epoch so far: Epoch: 719 Training Loss: 0.002689 Mean PSNR: 25.70, lr=0.00791\n",
            "Epoch: 740 in 0:02:31, best epoch so far: Epoch: 740 Training Loss: 0.002676 Mean PSNR: 25.73, lr=0.00788\n",
            "Epoch: 750 in 0:02:33, best epoch so far: Epoch: 747 Training Loss: 0.002672 Mean PSNR: 25.73, lr=0.00782\n",
            "Epoch: 760 in 0:02:35, best epoch so far: Epoch: 755 Training Loss: 0.002667 Mean PSNR: 25.74, lr=0.00778\n",
            "Epoch: 770 in 0:02:37, best epoch so far: Epoch: 762 Training Loss: 0.002663 Mean PSNR: 25.75, lr=0.00773\n",
            "Epoch: 780 in 0:02:39, best epoch so far: Epoch: 777 Training Loss: 0.002657 Mean PSNR: 25.76, lr=0.00769\n",
            "Epoch: 790 in 0:02:41, best epoch so far: Epoch: 785 Training Loss: 0.002653 Mean PSNR: 25.76, lr=0.00765\n",
            "Epoch: 800 in 0:02:43, best epoch so far: Epoch: 798 Training Loss: 0.002644 Mean PSNR: 25.78, lr=0.00760\n",
            "Epoch: 810 in 0:02:45, best epoch so far: Epoch: 808 Training Loss: 0.002643 Mean PSNR: 25.78, lr=0.00757\n",
            "Epoch: 820 in 0:02:47, best epoch so far: Epoch: 817 Training Loss: 0.002641 Mean PSNR: 25.78, lr=0.00751\n",
            "Epoch: 830 in 0:02:49, best epoch so far: Epoch: 826 Training Loss: 0.002634 Mean PSNR: 25.79, lr=0.00746\n",
            "Epoch: 840 in 0:02:51, best epoch so far: Epoch: 838 Training Loss: 0.002631 Mean PSNR: 25.80, lr=0.00742\n",
            "Epoch: 850 in 0:02:53, best epoch so far: Epoch: 850 Training Loss: 0.002626 Mean PSNR: 25.81, lr=0.00737\n",
            "Epoch: 860 in 0:02:55, best epoch so far: Epoch: 851 Training Loss: 0.002621 Mean PSNR: 25.82, lr=0.00732\n",
            "Epoch: 870 in 0:02:57, best epoch so far: Epoch: 866 Training Loss: 0.002618 Mean PSNR: 25.82, lr=0.00728\n",
            "Epoch: 880 in 0:02:59, best epoch so far: Epoch: 880 Training Loss: 0.002616 Mean PSNR: 25.82, lr=0.00724\n",
            "Epoch: 890 in 0:03:01, best epoch so far: Epoch: 882 Training Loss: 0.002609 Mean PSNR: 25.84, lr=0.00718\n",
            "Epoch: 900 in 0:03:04, best epoch so far: Epoch: 899 Training Loss: 0.002603 Mean PSNR: 25.85, lr=0.00713\n",
            "Epoch: 910 in 0:03:06, best epoch so far: Epoch: 906 Training Loss: 0.002601 Mean PSNR: 25.85, lr=0.00708\n",
            "Epoch: 920 in 0:03:08, best epoch so far: Epoch: 919 Training Loss: 0.002597 Mean PSNR: 25.86, lr=0.00702\n",
            "Epoch: 930 in 0:03:10, best epoch so far: Epoch: 919 Training Loss: 0.002597 Mean PSNR: 25.86, lr=0.00696\n",
            "Epoch: 940 in 0:03:12, best epoch so far: Epoch: 940 Training Loss: 0.002591 Mean PSNR: 25.87, lr=0.00692\n",
            "Epoch: 950 in 0:03:14, best epoch so far: Epoch: 946 Training Loss: 0.002588 Mean PSNR: 25.87, lr=0.00687\n",
            "Epoch: 960 in 0:03:16, best epoch so far: Epoch: 958 Training Loss: 0.002585 Mean PSNR: 25.88, lr=0.00683\n",
            "Epoch: 970 in 0:03:18, best epoch so far: Epoch: 968 Training Loss: 0.002579 Mean PSNR: 25.89, lr=0.00677\n",
            "Epoch: 980 in 0:03:20, best epoch so far: Epoch: 975 Training Loss: 0.002575 Mean PSNR: 25.89, lr=0.00674\n",
            "Epoch: 990 in 0:03:22, best epoch so far: Epoch: 981 Training Loss: 0.002574 Mean PSNR: 25.89, lr=0.00668\n",
            "Epoch: 1000 in 0:03:24, best epoch so far: Epoch: 992 Training Loss: 0.002571 Mean PSNR: 25.90, lr=0.00664\n",
            "Epoch: 1010 in 0:03:26, best epoch so far: Epoch: 1006 Training Loss: 0.002566 Mean PSNR: 25.91, lr=0.00661\n",
            "Epoch: 1020 in 0:03:28, best epoch so far: Epoch: 1012 Training Loss: 0.002565 Mean PSNR: 25.91, lr=0.00655\n",
            "Epoch: 1030 in 0:03:30, best epoch so far: Epoch: 1022 Training Loss: 0.002564 Mean PSNR: 25.91, lr=0.00649\n",
            "Epoch: 1040 in 0:03:32, best epoch so far: Epoch: 1037 Training Loss: 0.002560 Mean PSNR: 25.92, lr=0.00644\n",
            "Epoch: 1050 in 0:03:34, best epoch so far: Epoch: 1042 Training Loss: 0.002559 Mean PSNR: 25.92, lr=0.00639\n",
            "Epoch: 1060 in 0:03:36, best epoch so far: Epoch: 1054 Training Loss: 0.002555 Mean PSNR: 25.93, lr=0.00634\n",
            "Epoch: 1070 in 0:03:38, best epoch so far: Epoch: 1054 Training Loss: 0.002555 Mean PSNR: 25.93, lr=0.00630\n",
            "Epoch: 1080 in 0:03:40, best epoch so far: Epoch: 1080 Training Loss: 0.002551 Mean PSNR: 25.93, lr=0.00625\n",
            "Epoch: 1090 in 0:03:42, best epoch so far: Epoch: 1089 Training Loss: 0.002547 Mean PSNR: 25.94, lr=0.00619\n",
            "Epoch: 1100 in 0:03:44, best epoch so far: Epoch: 1093 Training Loss: 0.002544 Mean PSNR: 25.94, lr=0.00615\n",
            "Epoch: 1110 in 0:03:46, best epoch so far: Epoch: 1093 Training Loss: 0.002544 Mean PSNR: 25.94, lr=0.00612\n",
            "Epoch: 1120 in 0:03:48, best epoch so far: Epoch: 1117 Training Loss: 0.002541 Mean PSNR: 25.95, lr=0.00608\n",
            "Epoch: 1130 in 0:03:50, best epoch so far: Epoch: 1125 Training Loss: 0.002538 Mean PSNR: 25.96, lr=0.00603\n",
            "Epoch: 1140 in 0:03:52, best epoch so far: Epoch: 1140 Training Loss: 0.002536 Mean PSNR: 25.96, lr=0.00599\n",
            "Epoch: 1150 in 0:03:54, best epoch so far: Epoch: 1146 Training Loss: 0.002533 Mean PSNR: 25.96, lr=0.00594\n",
            "Epoch: 1160 in 0:03:56, best epoch so far: Epoch: 1157 Training Loss: 0.002531 Mean PSNR: 25.97, lr=0.00588\n",
            "Epoch: 1170 in 0:03:58, best epoch so far: Epoch: 1166 Training Loss: 0.002531 Mean PSNR: 25.97, lr=0.00582\n",
            "Epoch: 1180 in 0:04:00, best epoch so far: Epoch: 1180 Training Loss: 0.002525 Mean PSNR: 25.98, lr=0.00578\n",
            "Epoch: 1190 in 0:04:02, best epoch so far: Epoch: 1187 Training Loss: 0.002523 Mean PSNR: 25.98, lr=0.00572\n",
            "Epoch: 1200 in 0:04:04, best epoch so far: Epoch: 1191 Training Loss: 0.002523 Mean PSNR: 25.98, lr=0.00567\n",
            "Epoch: 1210 in 0:04:06, best epoch so far: Epoch: 1203 Training Loss: 0.002523 Mean PSNR: 25.98, lr=0.00562\n",
            "Epoch: 1220 in 0:04:08, best epoch so far: Epoch: 1220 Training Loss: 0.002520 Mean PSNR: 25.99, lr=0.00558\n",
            "Epoch: 1230 in 0:04:10, best epoch so far: Epoch: 1226 Training Loss: 0.002519 Mean PSNR: 25.99, lr=0.00553\n",
            "Epoch: 1240 in 0:04:12, best epoch so far: Epoch: 1237 Training Loss: 0.002515 Mean PSNR: 26.00, lr=0.00548\n",
            "Epoch: 1250 in 0:04:14, best epoch so far: Epoch: 1237 Training Loss: 0.002515 Mean PSNR: 26.00, lr=0.00544\n",
            "Epoch: 1260 in 0:04:16, best epoch so far: Epoch: 1255 Training Loss: 0.002514 Mean PSNR: 26.00, lr=0.00538\n",
            "Epoch: 1270 in 0:04:18, best epoch so far: Epoch: 1265 Training Loss: 0.002512 Mean PSNR: 26.00, lr=0.00535\n",
            "Epoch: 1280 in 0:04:20, best epoch so far: Epoch: 1279 Training Loss: 0.002511 Mean PSNR: 26.00, lr=0.00530\n",
            "Epoch: 1290 in 0:04:22, best epoch so far: Epoch: 1287 Training Loss: 0.002508 Mean PSNR: 26.01, lr=0.00524\n",
            "Epoch: 1300 in 0:04:25, best epoch so far: Epoch: 1296 Training Loss: 0.002507 Mean PSNR: 26.01, lr=0.00519\n",
            "Epoch: 1310 in 0:04:27, best epoch so far: Epoch: 1296 Training Loss: 0.002507 Mean PSNR: 26.01, lr=0.00513\n",
            "Epoch: 1320 in 0:04:29, best epoch so far: Epoch: 1320 Training Loss: 0.002501 Mean PSNR: 26.02, lr=0.00510\n",
            "Epoch: 1330 in 0:04:31, best epoch so far: Epoch: 1320 Training Loss: 0.002501 Mean PSNR: 26.02, lr=0.00504\n",
            "Epoch: 1340 in 0:04:33, best epoch so far: Epoch: 1332 Training Loss: 0.002500 Mean PSNR: 26.02, lr=0.00498\n",
            "Epoch: 1350 in 0:04:35, best epoch so far: Epoch: 1347 Training Loss: 0.002500 Mean PSNR: 26.02, lr=0.00493\n",
            "Epoch: 1360 in 0:04:37, best epoch so far: Epoch: 1355 Training Loss: 0.002497 Mean PSNR: 26.03, lr=0.00488\n",
            "Epoch: 1370 in 0:04:39, best epoch so far: Epoch: 1370 Training Loss: 0.002495 Mean PSNR: 26.03, lr=0.00485\n",
            "Epoch: 1380 in 0:04:41, best epoch so far: Epoch: 1380 Training Loss: 0.002493 Mean PSNR: 26.03, lr=0.00480\n",
            "Epoch: 1390 in 0:04:43, best epoch so far: Epoch: 1390 Training Loss: 0.002490 Mean PSNR: 26.04, lr=0.00475\n",
            "Epoch: 1400 in 0:04:45, best epoch so far: Epoch: 1398 Training Loss: 0.002489 Mean PSNR: 26.04, lr=0.00470\n",
            "Epoch: 1410 in 0:04:47, best epoch so far: Epoch: 1398 Training Loss: 0.002489 Mean PSNR: 26.04, lr=0.00466\n",
            "Epoch: 1420 in 0:04:49, best epoch so far: Epoch: 1417 Training Loss: 0.002486 Mean PSNR: 26.04, lr=0.00461\n",
            "Epoch: 1430 in 0:04:51, best epoch so far: Epoch: 1417 Training Loss: 0.002486 Mean PSNR: 26.04, lr=0.00456\n",
            "Epoch: 1440 in 0:04:54, best epoch so far: Epoch: 1417 Training Loss: 0.002486 Mean PSNR: 26.04, lr=0.00453\n",
            "Epoch: 1450 in 0:04:56, best epoch so far: Epoch: 1417 Training Loss: 0.002486 Mean PSNR: 26.04, lr=0.00447\n",
            "Epoch: 1460 in 0:04:57, best epoch so far: Epoch: 1417 Training Loss: 0.002486 Mean PSNR: 26.04, lr=0.00444\n",
            "Epoch: 1470 in 0:04:59, best epoch so far: Epoch: 1468 Training Loss: 0.002482 Mean PSNR: 26.05, lr=0.00440\n",
            "Epoch: 1480 in 0:05:02, best epoch so far: Epoch: 1472 Training Loss: 0.002481 Mean PSNR: 26.05, lr=0.00437\n",
            "Epoch: 1490 in 0:05:04, best epoch so far: Epoch: 1490 Training Loss: 0.002481 Mean PSNR: 26.05, lr=0.00433\n",
            "Epoch: 1500 in 0:05:06, best epoch so far: Epoch: 1490 Training Loss: 0.002481 Mean PSNR: 26.05, lr=0.00427\n",
            "Epoch: 1510 in 0:05:08, best epoch so far: Epoch: 1506 Training Loss: 0.002477 Mean PSNR: 26.06, lr=0.00423\n",
            "Epoch: 1520 in 0:05:10, best epoch so far: Epoch: 1518 Training Loss: 0.002476 Mean PSNR: 26.06, lr=0.00418\n",
            "Epoch: 1530 in 0:05:12, best epoch so far: Epoch: 1518 Training Loss: 0.002476 Mean PSNR: 26.06, lr=0.00413\n",
            "Epoch: 1540 in 0:05:14, best epoch so far: Epoch: 1537 Training Loss: 0.002473 Mean PSNR: 26.07, lr=0.00408\n",
            "Epoch: 1550 in 0:05:16, best epoch so far: Epoch: 1537 Training Loss: 0.002473 Mean PSNR: 26.07, lr=0.00403\n",
            "Epoch: 1560 in 0:05:18, best epoch so far: Epoch: 1537 Training Loss: 0.002473 Mean PSNR: 26.07, lr=0.00398\n",
            "Epoch: 1570 in 0:05:20, best epoch so far: Epoch: 1537 Training Loss: 0.002473 Mean PSNR: 26.07, lr=0.00394\n",
            "Epoch: 1580 in 0:05:22, best epoch so far: Epoch: 1574 Training Loss: 0.002469 Mean PSNR: 26.07, lr=0.00388\n",
            "Epoch: 1590 in 0:05:24, best epoch so far: Epoch: 1574 Training Loss: 0.002469 Mean PSNR: 26.07, lr=0.00384\n",
            "Epoch: 1600 in 0:05:26, best epoch so far: Epoch: 1574 Training Loss: 0.002469 Mean PSNR: 26.07, lr=0.00381\n",
            "Epoch: 1610 in 0:05:28, best epoch so far: Epoch: 1605 Training Loss: 0.002466 Mean PSNR: 26.08, lr=0.00378\n",
            "Epoch: 1620 in 0:05:30, best epoch so far: Epoch: 1605 Training Loss: 0.002466 Mean PSNR: 26.08, lr=0.00373\n",
            "Epoch: 1630 in 0:05:32, best epoch so far: Epoch: 1630 Training Loss: 0.002466 Mean PSNR: 26.08, lr=0.00369\n",
            "Epoch: 1640 in 0:05:35, best epoch so far: Epoch: 1638 Training Loss: 0.002463 Mean PSNR: 26.08, lr=0.00363\n",
            "Epoch: 1650 in 0:05:37, best epoch so far: Epoch: 1638 Training Loss: 0.002463 Mean PSNR: 26.08, lr=0.00359\n",
            "Epoch: 1660 in 0:05:39, best epoch so far: Epoch: 1659 Training Loss: 0.002463 Mean PSNR: 26.09, lr=0.00355\n",
            "Epoch: 1670 in 0:05:41, best epoch so far: Epoch: 1663 Training Loss: 0.002461 Mean PSNR: 26.09, lr=0.00351\n",
            "Epoch: 1680 in 0:05:43, best epoch so far: Epoch: 1663 Training Loss: 0.002461 Mean PSNR: 26.09, lr=0.00344\n",
            "Epoch: 1690 in 0:05:45, best epoch so far: Epoch: 1685 Training Loss: 0.002461 Mean PSNR: 26.09, lr=0.00339\n",
            "Epoch: 1700 in 0:05:47, best epoch so far: Epoch: 1694 Training Loss: 0.002460 Mean PSNR: 26.09, lr=0.00333\n",
            "Epoch: 1710 in 0:05:49, best epoch so far: Epoch: 1706 Training Loss: 0.002458 Mean PSNR: 26.09, lr=0.00328\n",
            "Epoch: 1720 in 0:05:51, best epoch so far: Epoch: 1706 Training Loss: 0.002458 Mean PSNR: 26.09, lr=0.00324\n",
            "Epoch: 1730 in 0:05:53, best epoch so far: Epoch: 1706 Training Loss: 0.002458 Mean PSNR: 26.09, lr=0.00319\n",
            "Epoch: 1740 in 0:05:55, best epoch so far: Epoch: 1706 Training Loss: 0.002458 Mean PSNR: 26.09, lr=0.00314\n",
            "Epoch: 1750 in 0:05:57, best epoch so far: Epoch: 1744 Training Loss: 0.002456 Mean PSNR: 26.10, lr=0.00308\n",
            "Epoch: 1760 in 0:05:59, best epoch so far: Epoch: 1744 Training Loss: 0.002456 Mean PSNR: 26.10, lr=0.00304\n",
            "Epoch: 1770 in 0:06:01, best epoch so far: Epoch: 1767 Training Loss: 0.002455 Mean PSNR: 26.10, lr=0.00299\n",
            "Epoch: 1780 in 0:06:03, best epoch so far: Epoch: 1767 Training Loss: 0.002455 Mean PSNR: 26.10, lr=0.00292\n",
            "Epoch: 1790 in 0:06:05, best epoch so far: Epoch: 1789 Training Loss: 0.002454 Mean PSNR: 26.10, lr=0.00287\n",
            "Epoch: 1800 in 0:06:07, best epoch so far: Epoch: 1797 Training Loss: 0.002453 Mean PSNR: 26.10, lr=0.00281\n",
            "Epoch: 1810 in 0:06:09, best epoch so far: Epoch: 1806 Training Loss: 0.002452 Mean PSNR: 26.11, lr=0.00276\n",
            "Epoch: 1820 in 0:06:11, best epoch so far: Epoch: 1815 Training Loss: 0.002451 Mean PSNR: 26.11, lr=0.00272\n",
            "Epoch: 1830 in 0:06:13, best epoch so far: Epoch: 1815 Training Loss: 0.002451 Mean PSNR: 26.11, lr=0.00266\n",
            "Epoch: 1840 in 0:06:15, best epoch so far: Epoch: 1815 Training Loss: 0.002451 Mean PSNR: 26.11, lr=0.00261\n",
            "Epoch: 1850 in 0:06:17, best epoch so far: Epoch: 1815 Training Loss: 0.002451 Mean PSNR: 26.11, lr=0.00256\n",
            "Epoch: 1860 in 0:06:19, best epoch so far: Epoch: 1852 Training Loss: 0.002450 Mean PSNR: 26.11, lr=0.00249\n",
            "Epoch: 1870 in 0:06:21, best epoch so far: Epoch: 1852 Training Loss: 0.002450 Mean PSNR: 26.11, lr=0.00245\n",
            "Epoch: 1880 in 0:06:23, best epoch so far: Epoch: 1880 Training Loss: 0.002448 Mean PSNR: 26.11, lr=0.00242\n",
            "Epoch: 1890 in 0:06:25, best epoch so far: Epoch: 1890 Training Loss: 0.002445 Mean PSNR: 26.12, lr=0.00238\n",
            "Epoch: 1900 in 0:06:27, best epoch so far: Epoch: 1890 Training Loss: 0.002445 Mean PSNR: 26.12, lr=0.00233\n",
            "Epoch: 1910 in 0:06:29, best epoch so far: Epoch: 1890 Training Loss: 0.002445 Mean PSNR: 26.12, lr=0.00226\n",
            "Epoch: 1920 in 0:06:31, best epoch so far: Epoch: 1890 Training Loss: 0.002445 Mean PSNR: 26.12, lr=0.00223\n",
            "Epoch: 1930 in 0:06:33, best epoch so far: Epoch: 1890 Training Loss: 0.002445 Mean PSNR: 26.12, lr=0.00218\n",
            "Epoch: 1940 in 0:06:35, best epoch so far: Epoch: 1936 Training Loss: 0.002445 Mean PSNR: 26.12, lr=0.00212\n",
            "Epoch: 1950 in 0:06:37, best epoch so far: Epoch: 1936 Training Loss: 0.002445 Mean PSNR: 26.12, lr=0.00207\n",
            "Epoch: 1960 in 0:06:39, best epoch so far: Epoch: 1954 Training Loss: 0.002444 Mean PSNR: 26.12, lr=0.00202\n",
            "Epoch: 1970 in 0:06:41, best epoch so far: Epoch: 1966 Training Loss: 0.002443 Mean PSNR: 26.12, lr=0.00196\n",
            "Epoch: 1980 in 0:06:43, best epoch so far: Epoch: 1966 Training Loss: 0.002443 Mean PSNR: 26.12, lr=0.00191\n",
            "Epoch: 1990 in 0:06:45, best epoch so far: Epoch: 1985 Training Loss: 0.002442 Mean PSNR: 26.12, lr=0.00186\n",
            "Epoch: 2000 in 0:06:47, best epoch so far: Epoch: 1985 Training Loss: 0.002442 Mean PSNR: 26.12, lr=0.00180\n",
            "Epoch: 2010 in 0:06:50, best epoch so far: Epoch: 1985 Training Loss: 0.002442 Mean PSNR: 26.12, lr=0.00176\n",
            "Epoch: 2020 in 0:06:52, best epoch so far: Epoch: 1985 Training Loss: 0.002442 Mean PSNR: 26.12, lr=0.00171\n",
            "Epoch: 2030 in 0:06:54, best epoch so far: Epoch: 1985 Training Loss: 0.002442 Mean PSNR: 26.12, lr=0.00166\n",
            "Epoch: 2040 in 0:06:56, best epoch so far: Epoch: 2039 Training Loss: 0.002442 Mean PSNR: 26.12, lr=0.00161\n",
            "Epoch: 2050 in 0:06:58, best epoch so far: Epoch: 2047 Training Loss: 0.002440 Mean PSNR: 26.13, lr=0.00155\n",
            "Epoch: 2060 in 0:07:00, best epoch so far: Epoch: 2057 Training Loss: 0.002439 Mean PSNR: 26.13, lr=0.00149\n",
            "Epoch: 2070 in 0:07:02, best epoch so far: Epoch: 2057 Training Loss: 0.002439 Mean PSNR: 26.13, lr=0.00144\n",
            "Epoch: 2080 in 0:07:04, best epoch so far: Epoch: 2057 Training Loss: 0.002439 Mean PSNR: 26.13, lr=0.00136\n",
            "Epoch: 2090 in 0:07:06, best epoch so far: Epoch: 2057 Training Loss: 0.002439 Mean PSNR: 26.13, lr=0.00131\n",
            "Epoch: 2100 in 0:07:08, best epoch so far: Epoch: 2057 Training Loss: 0.002439 Mean PSNR: 26.13, lr=0.00127\n",
            "Epoch: 2110 in 0:07:10, best epoch so far: Epoch: 2105 Training Loss: 0.002436 Mean PSNR: 26.13, lr=0.00121\n",
            "Epoch: 2120 in 0:07:12, best epoch so far: Epoch: 2105 Training Loss: 0.002436 Mean PSNR: 26.13, lr=0.00115\n",
            "Epoch: 2130 in 0:07:14, best epoch so far: Epoch: 2105 Training Loss: 0.002436 Mean PSNR: 26.13, lr=0.00110\n",
            "Epoch: 2140 in 0:07:16, best epoch so far: Epoch: 2105 Training Loss: 0.002436 Mean PSNR: 26.13, lr=0.00104\n",
            "Epoch: 2150 in 0:07:18, best epoch so far: Epoch: 2105 Training Loss: 0.002436 Mean PSNR: 26.13, lr=0.00099\n",
            "Epoch: 2160 in 0:07:20, best epoch so far: Epoch: 2105 Training Loss: 0.002436 Mean PSNR: 26.13, lr=0.00095\n",
            "Epoch: 2170 in 0:07:22, best epoch so far: Epoch: 2161 Training Loss: 0.002436 Mean PSNR: 26.13, lr=0.00090\n",
            "Epoch: 2180 in 0:07:24, best epoch so far: Epoch: 2161 Training Loss: 0.002436 Mean PSNR: 26.13, lr=0.00085\n",
            "Epoch: 2190 in 0:07:26, best epoch so far: Epoch: 2161 Training Loss: 0.002436 Mean PSNR: 26.13, lr=0.00082\n",
            "Epoch: 2200 in 0:07:28, best epoch so far: Epoch: 2161 Training Loss: 0.002436 Mean PSNR: 26.13, lr=0.00078\n",
            "Epoch: 2210 in 0:07:30, best epoch so far: Epoch: 2209 Training Loss: 0.002435 Mean PSNR: 26.13, lr=0.00073\n",
            "Epoch: 2220 in 0:07:32, best epoch so far: Epoch: 2209 Training Loss: 0.002435 Mean PSNR: 26.13, lr=0.00068\n",
            "Epoch: 2230 in 0:07:34, best epoch so far: Epoch: 2221 Training Loss: 0.002435 Mean PSNR: 26.13, lr=0.00064\n",
            "Epoch: 2240 in 0:07:36, best epoch so far: Epoch: 2221 Training Loss: 0.002435 Mean PSNR: 26.13, lr=0.00059\n",
            "Epoch: 2250 in 0:07:38, best epoch so far: Epoch: 2221 Training Loss: 0.002435 Mean PSNR: 26.13, lr=0.00054\n",
            "Epoch: 2260 in 0:07:40, best epoch so far: Epoch: 2260 Training Loss: 0.002434 Mean PSNR: 26.14, lr=0.00050\n",
            "Epoch: 2270 in 0:07:42, best epoch so far: Epoch: 2260 Training Loss: 0.002434 Mean PSNR: 26.14, lr=0.00045\n",
            "Epoch: 2280 in 0:07:44, best epoch so far: Epoch: 2260 Training Loss: 0.002434 Mean PSNR: 26.14, lr=0.00040\n",
            "Epoch: 2290 in 0:07:46, best epoch so far: Epoch: 2285 Training Loss: 0.002434 Mean PSNR: 26.14, lr=0.00035\n",
            "Epoch: 2300 in 0:07:48, best epoch so far: Epoch: 2285 Training Loss: 0.002434 Mean PSNR: 26.14, lr=0.00030\n",
            "Epoch: 2310 in 0:07:50, best epoch so far: Epoch: 2285 Training Loss: 0.002434 Mean PSNR: 26.14, lr=0.00026\n",
            "Epoch: 2320 in 0:07:52, best epoch so far: Epoch: 2285 Training Loss: 0.002434 Mean PSNR: 26.14, lr=0.00021\n",
            "Epoch: 2330 in 0:07:55, best epoch so far: Epoch: 2285 Training Loss: 0.002434 Mean PSNR: 26.14, lr=0.00016\n",
            "Epoch: 2340 in 0:07:57, best epoch so far: Epoch: 2285 Training Loss: 0.002434 Mean PSNR: 26.14, lr=0.00010\n",
            "Epoch: 2350 in 0:07:59, best epoch so far: Epoch: 2344 Training Loss: 0.002434 Mean PSNR: 26.14, lr=0.00010\n",
            "Epoch: 2360 in 0:08:01, best epoch so far: Epoch: 2344 Training Loss: 0.002434 Mean PSNR: 26.14, lr=0.00010\n",
            "Epoch: 2370 in 0:08:03, best epoch so far: Epoch: 2344 Training Loss: 0.002434 Mean PSNR: 26.14, lr=0.00010\n",
            "Epoch: 2380 in 0:08:05, best epoch so far: Epoch: 2344 Training Loss: 0.002434 Mean PSNR: 26.14, lr=0.00010\n",
            "Epoch: 2390 in 0:08:07, best epoch so far: Epoch: 2344 Training Loss: 0.002434 Mean PSNR: 26.14, lr=0.00010\n",
            "Epoch: 2400 in 0:08:09, best epoch so far: Epoch: 2344 Training Loss: 0.002434 Mean PSNR: 26.14, lr=0.00010\n",
            "Epoch: 2410 in 0:08:11, best epoch so far: Epoch: 2344 Training Loss: 0.002434 Mean PSNR: 26.14, lr=0.00010\n",
            "Epoch: 2420 in 0:08:13, best epoch so far: Epoch: 2344 Training Loss: 0.002434 Mean PSNR: 26.14, lr=0.00010\n",
            "Epoch: 2430 in 0:08:15, best epoch so far: Epoch: 2344 Training Loss: 0.002434 Mean PSNR: 26.14, lr=0.00010\n",
            "Epoch: 2440 in 0:08:17, best epoch so far: Epoch: 2344 Training Loss: 0.002434 Mean PSNR: 26.14, lr=0.00010\n",
            "No improvement for the last 100 epochs, so stopping training...\n",
            "Saving best epoch (2344) with loss: 0.002433761823900008 and psnr: 26.13721925541946 as:\n",
            "SuperResulutionNet_r-3_psnr-2614__mse-24-unknown\n"
          ],
          "name": "stdout"
        },
        {
          "output_type": "execute_result",
          "data": {
            "text/plain": [
              "0.002433761823900008"
            ]
          },
          "metadata": {
            "tags": []
          },
          "execution_count": 291
        }
      ]
    },
    {
      "cell_type": "code",
      "metadata": {
        "id": "qI5xM65NBLHw",
        "colab_type": "code",
        "colab": {}
      },
      "source": [
        ""
      ],
      "execution_count": 0,
      "outputs": []
    },
    {
      "cell_type": "markdown",
      "metadata": {
        "id": "mQUNCaCnBLH0",
        "colab_type": "text"
      },
      "source": [
        "## Evaluation"
      ]
    },
    {
      "cell_type": "code",
      "metadata": {
        "pycharm": {
          "is_executing": true
        },
        "id": "_lIPhVkgBLH1",
        "colab_type": "code",
        "colab": {}
      },
      "source": [
        "import math\n",
        "\n",
        "import PIL\n",
        "import matplotlib.pyplot as plt\n",
        "import torch\n",
        "from torch import nn\n",
        "from torchvision import transforms\n",
        "from os import listdir\n",
        "\n",
        "# from SuperResolutionDataset import SuperResolutionDataset\n",
        "import numpy as np\n",
        "\n",
        "\n",
        "def imshow(img):\n",
        "    npimg = img.numpy()\n",
        "    plt.figure()\n",
        "    plt.imshow(np.transpose(npimg, (1, 2, 0)))\n",
        "    plt.show()\n",
        "\n",
        "def evaluate_by_name(network_name):\n",
        "    net = torch.load(network_name)\n",
        "    evaluate(net)\n",
        "\n",
        "def mse_to_psnr(mse):\n",
        "    return 10 * math.log10(1. / mse)\n",
        "    \n",
        "def evaluate(net):\n",
        "    r = net.r\n",
        "    print(f\"r: {r}\")\n",
        "\n",
        "    use_gpu = torch.cuda.is_available()\n",
        "\n",
        "    test_set_paths = [\"test_data/\" + f for f in listdir(\"test_data\")]\n",
        "#     test_set_paths = [\"test_data/Custom\"]\n",
        "\n",
        "    for path in test_set_paths:\n",
        "        psnr = []\n",
        "        mse = []\n",
        "        test_set = SuperResolutionDataset(path, r, use_gpu=use_gpu, testing=True)\n",
        "\n",
        "\n",
        "        test_loader = torch.utils.data.DataLoader(test_set,\n",
        "                                                  batch_size=1,\n",
        "                                                  shuffle=True,\n",
        "                                                  num_workers=0)\n",
        "\n",
        "\n",
        "        for input, target in iter(test_loader):\n",
        "            if use_gpu:\n",
        "                input = input.cuda()\n",
        "                target = target.cuda()\n",
        "\n",
        "            if input.size()[1] == 1:\n",
        "                input = input.repeat(1, 3, 1, 1)\n",
        "\n",
        "            output = net(input)\n",
        "\n",
        "\n",
        "            if use_gpu:\n",
        "                input = input.cpu()\n",
        "                output = output.cpu()\n",
        "                target = target.cpu()\n",
        "\n",
        "\n",
        "            bicubic = transforms.Compose([\n",
        "                transforms.ToPILImage(),\n",
        "                transforms.Resize([int(r * input.size()[2]),\n",
        "                                   int(r * input.size()[3])],\n",
        "                                  PIL.Image.BICUBIC),\n",
        "                transforms.ToTensor()\n",
        "            ])\n",
        "            bicubic_upscaled = bicubic(input[0])\n",
        "\n",
        "            nearest_neighbour = transforms.Compose([\n",
        "                transforms.ToPILImage(),\n",
        "                transforms.Resize([int(r * input.size()[2]),\n",
        "                                   int(r * input.size()[3])],\n",
        "                                  PIL.Image.NEAREST),\n",
        "                transforms.ToTensor()\n",
        "            ])\n",
        "\n",
        "            input = nearest_neighbour(input[0])\n",
        "            # output = torch.clamp(output.detach(), 0, 1)\n",
        "\n",
        "            if target.size()[1] == 1:\n",
        "                target = target.repeat(1, 3, 1, 1)\n",
        "\n",
        "            mse_loss = nn.MSELoss()(output, target).item()\n",
        "            mse.append(mse_loss)\n",
        "            psnr.append(mse_to_psnr(mse_loss))\n",
        "\n",
        "            images = [input, target[0], output.detach()[0], bicubic_upscaled]\n",
        "\n",
        "        print(f\"{path} - avarage psnr: {np.mean(psnr)}, psnr of average mse: {mse_to_psnr(np.mean(mse))}\")\n",
        "\n",
        "    # plt.show()"
      ],
      "execution_count": 0,
      "outputs": []
    },
    {
      "cell_type": "code",
      "metadata": {
        "pycharm": {
          "is_executing": true
        },
        "id": "Eiknsr52BLH8",
        "colab_type": "code",
        "outputId": "842360c7-29a3-4bd1-d948-bfe29b05d970",
        "colab": {
          "base_uri": "https://localhost:8080/",
          "height": 119
        }
      },
      "source": [
        "evaluate(net)"
      ],
      "execution_count": 334,
      "outputs": [
        {
          "output_type": "stream",
          "text": [
            "r: 3\n",
            "test_data/BSD500 - avarage psnr: 26.513302433142208, psnr of average mse: 25.305135923133733\n",
            "test_data/Set5 - avarage psnr: 29.251275389642963, psnr of average mse: 27.936438576253334\n",
            "test_data/BSD300 - avarage psnr: 26.6278637523867, psnr of average mse: 25.3310071681516\n",
            "test_data/Set14 - avarage psnr: 26.31797737340256, psnr of average mse: 25.337559041988587\n",
            "test_data/SuperTexture - avarage psnr: 24.487856278677857, psnr of average mse: 22.307540565934918\n"
          ],
          "name": "stdout"
        }
      ]
    },
    {
      "cell_type": "code",
      "metadata": {
        "id": "35BnbNXBd6w9",
        "colab_type": "code",
        "colab": {
          "base_uri": "https://localhost:8080/",
          "height": 119
        },
        "outputId": "cedd9898-fc7c-4462-dcb0-029144cc506c"
      },
      "source": [
        "evaluate(net)"
      ],
      "execution_count": 336,
      "outputs": [
        {
          "output_type": "stream",
          "text": [
            "r: 3\n",
            "test_data/BSD500 - avarage psnr: 26.494012059518397, psnr of average mse: 25.2864189330735\n",
            "test_data/Set5 - avarage psnr: 29.21752743513349, psnr of average mse: 27.90425606306598\n",
            "test_data/BSD300 - avarage psnr: 26.609591910011968, psnr of average mse: 25.31428614449313\n",
            "test_data/Set14 - avarage psnr: 26.28821186034873, psnr of average mse: 25.303261110726737\n",
            "test_data/SuperTexture - avarage psnr: 24.472527774841037, psnr of average mse: 22.293787861574557\n"
          ],
          "name": "stdout"
        }
      ]
    },
    {
      "cell_type": "code",
      "metadata": {
        "id": "TefdFawqBLIF",
        "colab_type": "code",
        "outputId": "b1c5b3b8-add7-4f75-b591-e8731ab0e7a7",
        "colab": {
          "base_uri": "https://localhost:8080/",
          "height": 119
        }
      },
      "source": [
        "evaluate_by_name('SuperResulutionNet_r-3_psnr-2836__mse-15-unknown')"
      ],
      "execution_count": 288,
      "outputs": [
        {
          "output_type": "stream",
          "text": [
            "r: 3\n",
            "test_data/BSD500 - avarage psnr: 26.362028775376668, psnr of average mse: 25.17812778127549\n",
            "test_data/Set5 - avarage psnr: 28.898014619497935, psnr of average mse: 27.626260223336928\n",
            "test_data/BSD300 - avarage psnr: 26.478246918008207, psnr of average mse: 25.20898656080558\n",
            "test_data/Set14 - avarage psnr: 26.091769265120707, psnr of average mse: 25.129386428463512\n",
            "test_data/SuperTexture - avarage psnr: 24.295404681202378, psnr of average mse: 22.172009585297594\n"
          ],
          "name": "stdout"
        }
      ]
    },
    {
      "cell_type": "markdown",
      "metadata": {
        "id": "4LYkaXfBBLIK",
        "colab_type": "text"
      },
      "source": [
        "### Finding Hyperparameters\n",
        "We use the AX framework to find the best hyperparameters for the network. "
      ]
    },
    {
      "cell_type": "code",
      "metadata": {
        "id": "RMeNmrySIuC6",
        "colab_type": "code",
        "colab": {}
      },
      "source": [
        "!pip3 install ax-platform "
      ],
      "execution_count": 0,
      "outputs": []
    },
    {
      "cell_type": "code",
      "metadata": {
        "id": "fi2z0_YJBLIK",
        "colab_type": "code",
        "outputId": "ba3b5fad-b076-4309-ea1b-d8a9b63e213d",
        "colab": {
          "base_uri": "https://localhost:8080/",
          "height": 836
        }
      },
      "source": [
        "from ax import optimize\n",
        "\n",
        "def train_evaluate(parameters):\n",
        "    use_gpu = torch.cuda.is_available()\n",
        "    bs = 32\n",
        "    r = 3\n",
        "\n",
        "    training_set = SuperResolutionDataset('train_data/Set91', r, use_gpu=use_gpu)\n",
        "    # training_set = SuperResolutionDataset('test_data/BSD500', r, use_gpu=use_gpu)\n",
        "\n",
        "    train_loader = torch.utils.data.DataLoader(\n",
        "        training_set, batch_size=bs, shuffle=True, num_workers=0\n",
        "    )\n",
        "\n",
        "    # Initialize the network.\n",
        "    net = SuperResolutionNet(r, activation=nn.ReLU())\n",
        "\n",
        "    return train(net, use_gpu, train_loader, r,\n",
        "                 learning_rate_factor=parameters['learning_rate_factor'],\n",
        "                 learning_rate_abs=parameters['learning_rate_abs'],\n",
        "                 print_output=False)\n",
        "\n",
        "\n",
        "best_parameters, best_values, experiment, model = optimize(\n",
        "        parameters=[\n",
        "            # {\"name\": \"lr\", \"type\": \"range\", \"bounds\": [1e-6, 0.4], \"log_scale\": True},\n",
        "            # {\"name\": \"beta1\", \"type\": \"range\", \"bounds\": [0.5, 0.9]},\n",
        "            # {\"name\": \"beta2\", \"type\": \"range\", \"bounds\": [0.9, 0.999]},\n",
        "            {\"name\": \"learning_rate_factor\", \"type\": \"range\", \"bounds\": [0.5, 1.]},\n",
        "            {\"name\": \"learning_rate_abs\", \"type\": \"range\", \"bounds\": [0., 0.0001]}\n",
        "        ],\n",
        "\n",
        "        # Booth function\n",
        "        evaluation_function=train_evaluate,\n",
        "        objective_name='training-error',\n",
        "        minimize=True,\n",
        "    )\n",
        "\n",
        "print(best_parameters, best_values, experiment, model)"
      ],
      "execution_count": 10,
      "outputs": [
        {
          "output_type": "stream",
          "text": [
            "[INFO 04-18 20:34:12] ax.modelbridge.dispatch_utils: Using Bayesian Optimization generation strategy: GenerationStrategy(name='Sobol+GPEI', steps=[Sobol for 5 arms, GPEI for subsequent arms], generated 0 arm(s) so far). Iterations after 5 will take longer to generate due to model-fitting.\n",
            "[INFO 04-18 20:34:12] ax.service.managed_loop: Started full optimization with 20 steps.\n",
            "[INFO 04-18 20:34:12] ax.service.managed_loop: Running optimization trial 1...\n"
          ],
          "name": "stderr"
        },
        {
          "output_type": "stream",
          "text": [
            "2\n",
            "0.01\n",
            "0.001\n"
          ],
          "name": "stdout"
        },
        {
          "output_type": "stream",
          "text": [
            "/usr/local/lib/python3.6/dist-packages/torch/serialization.py:360: UserWarning:\n",
            "\n",
            "Couldn't retrieve source code for container of type SuperResolutionNet. It won't be checked for correctness upon loading.\n",
            "\n",
            "[INFO 04-18 20:49:34] ax.service.managed_loop: Running optimization trial 2...\n"
          ],
          "name": "stderr"
        },
        {
          "output_type": "stream",
          "text": [
            "2\n",
            "0.01\n",
            "0.001\n"
          ],
          "name": "stdout"
        },
        {
          "output_type": "stream",
          "text": [
            "[INFO 04-18 21:03:48] ax.service.managed_loop: Running optimization trial 3...\n"
          ],
          "name": "stderr"
        },
        {
          "output_type": "stream",
          "text": [
            "2\n",
            "0.01\n",
            "0.001\n"
          ],
          "name": "stdout"
        },
        {
          "output_type": "stream",
          "text": [
            "[INFO 04-18 21:09:51] ax.service.managed_loop: Running optimization trial 4...\n"
          ],
          "name": "stderr"
        },
        {
          "output_type": "stream",
          "text": [
            "2\n",
            "0.01\n",
            "0.001\n"
          ],
          "name": "stdout"
        },
        {
          "output_type": "stream",
          "text": [
            "[INFO 04-18 21:21:22] ax.service.managed_loop: Running optimization trial 5...\n"
          ],
          "name": "stderr"
        },
        {
          "output_type": "stream",
          "text": [
            "2\n",
            "0.01\n",
            "0.001\n"
          ],
          "name": "stdout"
        },
        {
          "output_type": "error",
          "ename": "KeyboardInterrupt",
          "evalue": "ignored",
          "traceback": [
            "\u001b[0;31m---------------------------------------------------------------------------\u001b[0m",
            "\u001b[0;31mKeyboardInterrupt\u001b[0m                         Traceback (most recent call last)",
            "\u001b[0;32m<ipython-input-10-2b3d6f0ce3a2>\u001b[0m in \u001b[0;36m<module>\u001b[0;34m()\u001b[0m\n\u001b[1;32m     34\u001b[0m         \u001b[0mevaluation_function\u001b[0m\u001b[0;34m=\u001b[0m\u001b[0mtrain_evaluate\u001b[0m\u001b[0;34m,\u001b[0m\u001b[0;34m\u001b[0m\u001b[0;34m\u001b[0m\u001b[0m\n\u001b[1;32m     35\u001b[0m         \u001b[0mobjective_name\u001b[0m\u001b[0;34m=\u001b[0m\u001b[0;34m'training-error'\u001b[0m\u001b[0;34m,\u001b[0m\u001b[0;34m\u001b[0m\u001b[0;34m\u001b[0m\u001b[0m\n\u001b[0;32m---> 36\u001b[0;31m         \u001b[0mminimize\u001b[0m\u001b[0;34m=\u001b[0m\u001b[0;32mTrue\u001b[0m\u001b[0;34m,\u001b[0m\u001b[0;34m\u001b[0m\u001b[0;34m\u001b[0m\u001b[0m\n\u001b[0m\u001b[1;32m     37\u001b[0m     )\n\u001b[1;32m     38\u001b[0m \u001b[0;34m\u001b[0m\u001b[0m\n",
            "\u001b[0;32m/usr/local/lib/python3.6/dist-packages/ax/service/managed_loop.py\u001b[0m in \u001b[0;36moptimize\u001b[0;34m(parameters, evaluation_function, experiment_name, objective_name, minimize, parameter_constraints, outcome_constraints, total_trials, arms_per_trial, random_seed, generation_strategy)\u001b[0m\n\u001b[1;32m    222\u001b[0m         \u001b[0mgeneration_strategy\u001b[0m\u001b[0;34m=\u001b[0m\u001b[0mgeneration_strategy\u001b[0m\u001b[0;34m,\u001b[0m\u001b[0;34m\u001b[0m\u001b[0;34m\u001b[0m\u001b[0m\n\u001b[1;32m    223\u001b[0m     )\n\u001b[0;32m--> 224\u001b[0;31m     \u001b[0mloop\u001b[0m\u001b[0;34m.\u001b[0m\u001b[0mfull_run\u001b[0m\u001b[0;34m(\u001b[0m\u001b[0;34m)\u001b[0m\u001b[0;34m\u001b[0m\u001b[0;34m\u001b[0m\u001b[0m\n\u001b[0m\u001b[1;32m    225\u001b[0m     \u001b[0mparameterization\u001b[0m\u001b[0;34m,\u001b[0m \u001b[0mvalues\u001b[0m \u001b[0;34m=\u001b[0m \u001b[0mloop\u001b[0m\u001b[0;34m.\u001b[0m\u001b[0mget_best_point\u001b[0m\u001b[0;34m(\u001b[0m\u001b[0;34m)\u001b[0m\u001b[0;34m\u001b[0m\u001b[0;34m\u001b[0m\u001b[0m\n\u001b[1;32m    226\u001b[0m     \u001b[0;32mreturn\u001b[0m \u001b[0mparameterization\u001b[0m\u001b[0;34m,\u001b[0m \u001b[0mvalues\u001b[0m\u001b[0;34m,\u001b[0m \u001b[0mloop\u001b[0m\u001b[0;34m.\u001b[0m\u001b[0mexperiment\u001b[0m\u001b[0;34m,\u001b[0m \u001b[0mloop\u001b[0m\u001b[0;34m.\u001b[0m\u001b[0mget_current_model\u001b[0m\u001b[0;34m(\u001b[0m\u001b[0;34m)\u001b[0m\u001b[0;34m\u001b[0m\u001b[0;34m\u001b[0m\u001b[0m\n",
            "\u001b[0;32m/usr/local/lib/python3.6/dist-packages/ax/service/managed_loop.py\u001b[0m in \u001b[0;36mfull_run\u001b[0;34m(self)\u001b[0m\n\u001b[1;32m    164\u001b[0m         \u001b[0mlogger\u001b[0m\u001b[0;34m.\u001b[0m\u001b[0minfo\u001b[0m\u001b[0;34m(\u001b[0m\u001b[0;34mf\"Started full optimization with {num_steps} steps.\"\u001b[0m\u001b[0;34m)\u001b[0m\u001b[0;34m\u001b[0m\u001b[0;34m\u001b[0m\u001b[0m\n\u001b[1;32m    165\u001b[0m         \u001b[0;32mfor\u001b[0m \u001b[0m_\u001b[0m \u001b[0;32min\u001b[0m \u001b[0mrange\u001b[0m\u001b[0;34m(\u001b[0m\u001b[0mnum_steps\u001b[0m\u001b[0;34m)\u001b[0m\u001b[0;34m:\u001b[0m\u001b[0;34m\u001b[0m\u001b[0;34m\u001b[0m\u001b[0m\n\u001b[0;32m--> 166\u001b[0;31m             \u001b[0mself\u001b[0m\u001b[0;34m.\u001b[0m\u001b[0mrun_trial\u001b[0m\u001b[0;34m(\u001b[0m\u001b[0;34m)\u001b[0m\u001b[0;34m\u001b[0m\u001b[0;34m\u001b[0m\u001b[0m\n\u001b[0m\u001b[1;32m    167\u001b[0m         \u001b[0;32mreturn\u001b[0m \u001b[0mself\u001b[0m\u001b[0;34m\u001b[0m\u001b[0;34m\u001b[0m\u001b[0m\n\u001b[1;32m    168\u001b[0m \u001b[0;34m\u001b[0m\u001b[0m\n",
            "\u001b[0;32m/usr/local/lib/python3.6/dist-packages/ax/service/managed_loop.py\u001b[0m in \u001b[0;36mrun_trial\u001b[0;34m(self)\u001b[0m\n\u001b[1;32m    155\u001b[0m         \u001b[0;32melse\u001b[0m\u001b[0;34m:\u001b[0m  \u001b[0;31m# pragma: no cover\u001b[0m\u001b[0;34m\u001b[0m\u001b[0;34m\u001b[0m\u001b[0m\n\u001b[1;32m    156\u001b[0m             \u001b[0;32mraise\u001b[0m \u001b[0mValueError\u001b[0m\u001b[0;34m(\u001b[0m\u001b[0;34mf\"Invalid number of arms per trial: {arms_per_trial}\"\u001b[0m\u001b[0;34m)\u001b[0m\u001b[0;34m\u001b[0m\u001b[0;34m\u001b[0m\u001b[0m\n\u001b[0;32m--> 157\u001b[0;31m         \u001b[0mtrial\u001b[0m\u001b[0;34m.\u001b[0m\u001b[0mfetch_data\u001b[0m\u001b[0;34m(\u001b[0m\u001b[0;34m)\u001b[0m\u001b[0;34m\u001b[0m\u001b[0;34m\u001b[0m\u001b[0m\n\u001b[0m\u001b[1;32m    158\u001b[0m         \u001b[0mself\u001b[0m\u001b[0;34m.\u001b[0m\u001b[0mcurrent_trial\u001b[0m \u001b[0;34m+=\u001b[0m \u001b[0;36m1\u001b[0m\u001b[0;34m\u001b[0m\u001b[0;34m\u001b[0m\u001b[0m\n\u001b[1;32m    159\u001b[0m \u001b[0;34m\u001b[0m\u001b[0m\n",
            "\u001b[0;32m/usr/local/lib/python3.6/dist-packages/ax/core/base_trial.py\u001b[0m in \u001b[0;36mfetch_data\u001b[0;34m(self, metrics, **kwargs)\u001b[0m\n\u001b[1;32m    282\u001b[0m         \"\"\"\n\u001b[1;32m    283\u001b[0m         return self.experiment._fetch_trial_data(\n\u001b[0;32m--> 284\u001b[0;31m             \u001b[0mtrial_index\u001b[0m\u001b[0;34m=\u001b[0m\u001b[0mself\u001b[0m\u001b[0;34m.\u001b[0m\u001b[0mindex\u001b[0m\u001b[0;34m,\u001b[0m \u001b[0mmetrics\u001b[0m\u001b[0;34m=\u001b[0m\u001b[0mmetrics\u001b[0m\u001b[0;34m,\u001b[0m \u001b[0;34m**\u001b[0m\u001b[0mkwargs\u001b[0m\u001b[0;34m\u001b[0m\u001b[0;34m\u001b[0m\u001b[0m\n\u001b[0m\u001b[1;32m    285\u001b[0m         )\n\u001b[1;32m    286\u001b[0m \u001b[0;34m\u001b[0m\u001b[0m\n",
            "\u001b[0;32m/usr/local/lib/python3.6/dist-packages/ax/core/simple_experiment.py\u001b[0m in \u001b[0;36m_fetch_trial_data\u001b[0;34m(self, trial_index, metrics, **kwargs)\u001b[0m\n\u001b[1;32m    215\u001b[0m         \u001b[0mself\u001b[0m\u001b[0;34m,\u001b[0m \u001b[0mtrial_index\u001b[0m\u001b[0;34m:\u001b[0m \u001b[0mint\u001b[0m\u001b[0;34m,\u001b[0m \u001b[0mmetrics\u001b[0m\u001b[0;34m:\u001b[0m \u001b[0mOptional\u001b[0m\u001b[0;34m[\u001b[0m\u001b[0mList\u001b[0m\u001b[0;34m[\u001b[0m\u001b[0mMetric\u001b[0m\u001b[0;34m]\u001b[0m\u001b[0;34m]\u001b[0m \u001b[0;34m=\u001b[0m \u001b[0;32mNone\u001b[0m\u001b[0;34m,\u001b[0m \u001b[0;34m**\u001b[0m\u001b[0mkwargs\u001b[0m\u001b[0;34m:\u001b[0m \u001b[0mAny\u001b[0m\u001b[0;34m\u001b[0m\u001b[0;34m\u001b[0m\u001b[0m\n\u001b[1;32m    216\u001b[0m     ) -> Data:\n\u001b[0;32m--> 217\u001b[0;31m         \u001b[0;32mreturn\u001b[0m \u001b[0mself\u001b[0m\u001b[0;34m.\u001b[0m\u001b[0meval_trial\u001b[0m\u001b[0;34m(\u001b[0m\u001b[0mself\u001b[0m\u001b[0;34m.\u001b[0m\u001b[0mtrials\u001b[0m\u001b[0;34m[\u001b[0m\u001b[0mtrial_index\u001b[0m\u001b[0;34m]\u001b[0m\u001b[0;34m)\u001b[0m\u001b[0;34m\u001b[0m\u001b[0;34m\u001b[0m\u001b[0m\n\u001b[0m\u001b[1;32m    218\u001b[0m \u001b[0;34m\u001b[0m\u001b[0m\n\u001b[1;32m    219\u001b[0m     \u001b[0;34m@\u001b[0m\u001b[0mcopy_doc\u001b[0m\u001b[0;34m(\u001b[0m\u001b[0mExperiment\u001b[0m\u001b[0;34m.\u001b[0m\u001b[0madd_tracking_metric\u001b[0m\u001b[0;34m)\u001b[0m\u001b[0;34m\u001b[0m\u001b[0;34m\u001b[0m\u001b[0m\n",
            "\u001b[0;32m/usr/local/lib/python3.6/dist-packages/ax/core/simple_experiment.py\u001b[0m in \u001b[0;36meval_trial\u001b[0;34m(self, trial)\u001b[0m\n\u001b[1;32m    122\u001b[0m             \u001b[0mtrial\u001b[0m\u001b[0;34m.\u001b[0m\u001b[0mmark_running\u001b[0m\u001b[0;34m(\u001b[0m\u001b[0;34m)\u001b[0m\u001b[0;34m\u001b[0m\u001b[0;34m\u001b[0m\u001b[0m\n\u001b[1;32m    123\u001b[0m             evaluations[not_none(trial.arm).name] = self.evaluation_function_outer(\n\u001b[0;32m--> 124\u001b[0;31m                 \u001b[0mnot_none\u001b[0m\u001b[0;34m(\u001b[0m\u001b[0mtrial\u001b[0m\u001b[0;34m.\u001b[0m\u001b[0marm\u001b[0m\u001b[0;34m)\u001b[0m\u001b[0;34m.\u001b[0m\u001b[0mparameters\u001b[0m\u001b[0;34m,\u001b[0m \u001b[0;32mNone\u001b[0m\u001b[0;34m\u001b[0m\u001b[0;34m\u001b[0m\u001b[0m\n\u001b[0m\u001b[1;32m    125\u001b[0m             )\n\u001b[1;32m    126\u001b[0m         \u001b[0;32melif\u001b[0m \u001b[0misinstance\u001b[0m\u001b[0;34m(\u001b[0m\u001b[0mtrial\u001b[0m\u001b[0;34m,\u001b[0m \u001b[0mBatchTrial\u001b[0m\u001b[0;34m)\u001b[0m\u001b[0;34m:\u001b[0m\u001b[0;34m\u001b[0m\u001b[0;34m\u001b[0m\u001b[0m\n",
            "\u001b[0;32m/usr/local/lib/python3.6/dist-packages/ax/core/simple_experiment.py\u001b[0m in \u001b[0;36mevaluation_function_outer\u001b[0;34m(self, parameterization, weight)\u001b[0m\n\u001b[1;32m    179\u001b[0m         \u001b[0;32mif\u001b[0m \u001b[0mnum_evaluation_function_params\u001b[0m \u001b[0;34m==\u001b[0m \u001b[0;36m1\u001b[0m\u001b[0;34m:\u001b[0m\u001b[0;34m\u001b[0m\u001b[0;34m\u001b[0m\u001b[0m\n\u001b[1;32m    180\u001b[0m             \u001b[0;31m# pyre-fixme[20]: Anonymous call expects argument `$1`.\u001b[0m\u001b[0;34m\u001b[0m\u001b[0;34m\u001b[0m\u001b[0;34m\u001b[0m\u001b[0m\n\u001b[0;32m--> 181\u001b[0;31m             \u001b[0mevaluation\u001b[0m \u001b[0;34m=\u001b[0m \u001b[0mself\u001b[0m\u001b[0;34m.\u001b[0m\u001b[0m_evaluation_function\u001b[0m\u001b[0;34m(\u001b[0m\u001b[0mparameterization\u001b[0m\u001b[0;34m)\u001b[0m\u001b[0;34m\u001b[0m\u001b[0;34m\u001b[0m\u001b[0m\n\u001b[0m\u001b[1;32m    182\u001b[0m         \u001b[0;32melif\u001b[0m \u001b[0mnum_evaluation_function_params\u001b[0m \u001b[0;34m==\u001b[0m \u001b[0;36m2\u001b[0m\u001b[0;34m:\u001b[0m\u001b[0;34m\u001b[0m\u001b[0;34m\u001b[0m\u001b[0m\n\u001b[1;32m    183\u001b[0m             \u001b[0mevaluation\u001b[0m \u001b[0;34m=\u001b[0m \u001b[0mself\u001b[0m\u001b[0;34m.\u001b[0m\u001b[0m_evaluation_function\u001b[0m\u001b[0;34m(\u001b[0m\u001b[0mparameterization\u001b[0m\u001b[0;34m,\u001b[0m \u001b[0mweight\u001b[0m\u001b[0;34m)\u001b[0m\u001b[0;34m\u001b[0m\u001b[0;34m\u001b[0m\u001b[0m\n",
            "\u001b[0;32m<ipython-input-10-2b3d6f0ce3a2>\u001b[0m in \u001b[0;36mtrain_evaluate\u001b[0;34m(parameters)\u001b[0m\n\u001b[1;32m     19\u001b[0m                  \u001b[0mlearning_rate_factor\u001b[0m\u001b[0;34m=\u001b[0m\u001b[0mparameters\u001b[0m\u001b[0;34m[\u001b[0m\u001b[0;34m'learning_rate_factor'\u001b[0m\u001b[0;34m]\u001b[0m\u001b[0;34m,\u001b[0m\u001b[0;34m\u001b[0m\u001b[0;34m\u001b[0m\u001b[0m\n\u001b[1;32m     20\u001b[0m                  \u001b[0mlearning_rate_abs\u001b[0m\u001b[0;34m=\u001b[0m\u001b[0mparameters\u001b[0m\u001b[0;34m[\u001b[0m\u001b[0;34m'learning_rate_abs'\u001b[0m\u001b[0;34m]\u001b[0m\u001b[0;34m,\u001b[0m\u001b[0;34m\u001b[0m\u001b[0;34m\u001b[0m\u001b[0m\n\u001b[0;32m---> 21\u001b[0;31m                  print_output=False)\n\u001b[0m\u001b[1;32m     22\u001b[0m \u001b[0;34m\u001b[0m\u001b[0m\n\u001b[1;32m     23\u001b[0m \u001b[0;34m\u001b[0m\u001b[0m\n",
            "\u001b[0;32m<ipython-input-9-db945cc8eac3>\u001b[0m in \u001b[0;36mtrain\u001b[0;34m(net, use_gpu, train_loader, r, learning_rate, max_epochs_without_improvement, max_epochs, print_output, momentum, learning_rate_factor, learning_rate_abs, beta1, beta2)\u001b[0m\n\u001b[1;32m     99\u001b[0m             \u001b[0;31m#If the psnr is above some threshold save this new best network.\u001b[0m\u001b[0;34m\u001b[0m\u001b[0;34m\u001b[0m\u001b[0;34m\u001b[0m\u001b[0m\n\u001b[1;32m    100\u001b[0m             \u001b[0;32mif\u001b[0m \u001b[0mhighest_psnr\u001b[0m \u001b[0;34m>\u001b[0m \u001b[0mminimum_psnr_to_save\u001b[0m\u001b[0;34m:\u001b[0m\u001b[0;34m\u001b[0m\u001b[0;34m\u001b[0m\u001b[0m\n\u001b[0;32m--> 101\u001b[0;31m                 \u001b[0mtorch\u001b[0m\u001b[0;34m.\u001b[0m\u001b[0msave\u001b[0m\u001b[0;34m(\u001b[0m\u001b[0mnet\u001b[0m\u001b[0;34m,\u001b[0m \u001b[0;34mf'SuperResulutionNet_best_of_run-{computer_name}'\u001b[0m\u001b[0;34m)\u001b[0m\u001b[0;34m\u001b[0m\u001b[0;34m\u001b[0m\u001b[0m\n\u001b[0m\u001b[1;32m    102\u001b[0m \u001b[0;34m\u001b[0m\u001b[0m\n\u001b[1;32m    103\u001b[0m         \u001b[0;32mif\u001b[0m \u001b[0mepoch\u001b[0m \u001b[0;34m%\u001b[0m \u001b[0;36m10\u001b[0m \u001b[0;34m==\u001b[0m \u001b[0;36m0\u001b[0m \u001b[0;32mand\u001b[0m \u001b[0mprint_output\u001b[0m\u001b[0;34m:\u001b[0m\u001b[0;34m\u001b[0m\u001b[0;34m\u001b[0m\u001b[0m\n",
            "\u001b[0;32m/usr/local/lib/python3.6/dist-packages/torch/serialization.py\u001b[0m in \u001b[0;36msave\u001b[0;34m(obj, f, pickle_module, pickle_protocol, _use_new_zipfile_serialization)\u001b[0m\n\u001b[1;32m    326\u001b[0m \u001b[0;34m\u001b[0m\u001b[0m\n\u001b[1;32m    327\u001b[0m     \u001b[0;32mwith\u001b[0m \u001b[0m_open_file_like\u001b[0m\u001b[0;34m(\u001b[0m\u001b[0mf\u001b[0m\u001b[0;34m,\u001b[0m \u001b[0;34m'wb'\u001b[0m\u001b[0;34m)\u001b[0m \u001b[0;32mas\u001b[0m \u001b[0mopened_file\u001b[0m\u001b[0;34m:\u001b[0m\u001b[0;34m\u001b[0m\u001b[0;34m\u001b[0m\u001b[0m\n\u001b[0;32m--> 328\u001b[0;31m         \u001b[0m_legacy_save\u001b[0m\u001b[0;34m(\u001b[0m\u001b[0mobj\u001b[0m\u001b[0;34m,\u001b[0m \u001b[0mopened_file\u001b[0m\u001b[0;34m,\u001b[0m \u001b[0mpickle_module\u001b[0m\u001b[0;34m,\u001b[0m \u001b[0mpickle_protocol\u001b[0m\u001b[0;34m)\u001b[0m\u001b[0;34m\u001b[0m\u001b[0;34m\u001b[0m\u001b[0m\n\u001b[0m\u001b[1;32m    329\u001b[0m \u001b[0;34m\u001b[0m\u001b[0m\n\u001b[1;32m    330\u001b[0m \u001b[0;34m\u001b[0m\u001b[0m\n",
            "\u001b[0;32m/usr/local/lib/python3.6/dist-packages/torch/serialization.py\u001b[0m in \u001b[0;36m_legacy_save\u001b[0;34m(obj, f, pickle_module, pickle_protocol)\u001b[0m\n\u001b[1;32m    399\u001b[0m     \u001b[0mpickler\u001b[0m \u001b[0;34m=\u001b[0m \u001b[0mpickle_module\u001b[0m\u001b[0;34m.\u001b[0m\u001b[0mPickler\u001b[0m\u001b[0;34m(\u001b[0m\u001b[0mf\u001b[0m\u001b[0;34m,\u001b[0m \u001b[0mprotocol\u001b[0m\u001b[0;34m=\u001b[0m\u001b[0mpickle_protocol\u001b[0m\u001b[0;34m)\u001b[0m\u001b[0;34m\u001b[0m\u001b[0;34m\u001b[0m\u001b[0m\n\u001b[1;32m    400\u001b[0m     \u001b[0mpickler\u001b[0m\u001b[0;34m.\u001b[0m\u001b[0mpersistent_id\u001b[0m \u001b[0;34m=\u001b[0m \u001b[0mpersistent_id\u001b[0m\u001b[0;34m\u001b[0m\u001b[0;34m\u001b[0m\u001b[0m\n\u001b[0;32m--> 401\u001b[0;31m     \u001b[0mpickler\u001b[0m\u001b[0;34m.\u001b[0m\u001b[0mdump\u001b[0m\u001b[0;34m(\u001b[0m\u001b[0mobj\u001b[0m\u001b[0;34m)\u001b[0m\u001b[0;34m\u001b[0m\u001b[0;34m\u001b[0m\u001b[0m\n\u001b[0m\u001b[1;32m    402\u001b[0m \u001b[0;34m\u001b[0m\u001b[0m\n\u001b[1;32m    403\u001b[0m     \u001b[0mserialized_storage_keys\u001b[0m \u001b[0;34m=\u001b[0m \u001b[0msorted\u001b[0m\u001b[0;34m(\u001b[0m\u001b[0mserialized_storages\u001b[0m\u001b[0;34m.\u001b[0m\u001b[0mkeys\u001b[0m\u001b[0;34m(\u001b[0m\u001b[0;34m)\u001b[0m\u001b[0;34m)\u001b[0m\u001b[0;34m\u001b[0m\u001b[0;34m\u001b[0m\u001b[0m\n",
            "\u001b[0;32m/usr/local/lib/python3.6/dist-packages/torch/serialization.py\u001b[0m in \u001b[0;36mpersistent_id\u001b[0;34m(obj)\u001b[0m\n\u001b[1;32m    354\u001b[0m             \u001b[0msource_file\u001b[0m \u001b[0;34m=\u001b[0m \u001b[0msource\u001b[0m \u001b[0;34m=\u001b[0m \u001b[0;32mNone\u001b[0m\u001b[0;34m\u001b[0m\u001b[0;34m\u001b[0m\u001b[0m\n\u001b[1;32m    355\u001b[0m             \u001b[0;32mtry\u001b[0m\u001b[0;34m:\u001b[0m\u001b[0;34m\u001b[0m\u001b[0;34m\u001b[0m\u001b[0m\n\u001b[0;32m--> 356\u001b[0;31m                 \u001b[0msource_lines\u001b[0m\u001b[0;34m,\u001b[0m \u001b[0m_\u001b[0m\u001b[0;34m,\u001b[0m \u001b[0msource_file\u001b[0m \u001b[0;34m=\u001b[0m \u001b[0mget_source_lines_and_file\u001b[0m\u001b[0;34m(\u001b[0m\u001b[0mobj\u001b[0m\u001b[0;34m)\u001b[0m\u001b[0;34m\u001b[0m\u001b[0;34m\u001b[0m\u001b[0m\n\u001b[0m\u001b[1;32m    357\u001b[0m                 \u001b[0msource\u001b[0m \u001b[0;34m=\u001b[0m \u001b[0;34m''\u001b[0m\u001b[0;34m.\u001b[0m\u001b[0mjoin\u001b[0m\u001b[0;34m(\u001b[0m\u001b[0msource_lines\u001b[0m\u001b[0;34m)\u001b[0m\u001b[0;34m\u001b[0m\u001b[0;34m\u001b[0m\u001b[0m\n\u001b[1;32m    358\u001b[0m             \u001b[0;32mexcept\u001b[0m \u001b[0mException\u001b[0m\u001b[0;34m:\u001b[0m  \u001b[0;31m# saving the source is optional, so we can ignore any errors\u001b[0m\u001b[0;34m\u001b[0m\u001b[0;34m\u001b[0m\u001b[0m\n",
            "\u001b[0;32m/usr/local/lib/python3.6/dist-packages/torch/_utils_internal.py\u001b[0m in \u001b[0;36mget_source_lines_and_file\u001b[0;34m(obj)\u001b[0m\n\u001b[1;32m     44\u001b[0m     \u001b[0;32mtry\u001b[0m\u001b[0;34m:\u001b[0m\u001b[0;34m\u001b[0m\u001b[0;34m\u001b[0m\u001b[0m\n\u001b[1;32m     45\u001b[0m         \u001b[0mfilename\u001b[0m \u001b[0;34m=\u001b[0m \u001b[0minspect\u001b[0m\u001b[0;34m.\u001b[0m\u001b[0mgetsourcefile\u001b[0m\u001b[0;34m(\u001b[0m\u001b[0mobj\u001b[0m\u001b[0;34m)\u001b[0m\u001b[0;34m\u001b[0m\u001b[0;34m\u001b[0m\u001b[0m\n\u001b[0;32m---> 46\u001b[0;31m         \u001b[0msourcelines\u001b[0m\u001b[0;34m,\u001b[0m \u001b[0mfile_lineno\u001b[0m \u001b[0;34m=\u001b[0m \u001b[0minspect\u001b[0m\u001b[0;34m.\u001b[0m\u001b[0mgetsourcelines\u001b[0m\u001b[0;34m(\u001b[0m\u001b[0mobj\u001b[0m\u001b[0;34m)\u001b[0m\u001b[0;34m\u001b[0m\u001b[0;34m\u001b[0m\u001b[0m\n\u001b[0m\u001b[1;32m     47\u001b[0m     \u001b[0;32mexcept\u001b[0m \u001b[0mOSError\u001b[0m \u001b[0;32mas\u001b[0m \u001b[0me\u001b[0m\u001b[0;34m:\u001b[0m\u001b[0;34m\u001b[0m\u001b[0;34m\u001b[0m\u001b[0m\n\u001b[1;32m     48\u001b[0m         raise OSError((\n",
            "\u001b[0;32m/usr/lib/python3.6/inspect.py\u001b[0m in \u001b[0;36mgetsourcelines\u001b[0;34m(object)\u001b[0m\n\u001b[1;32m    963\u001b[0m         \u001b[0;32mreturn\u001b[0m \u001b[0mlines\u001b[0m\u001b[0;34m,\u001b[0m \u001b[0;36m0\u001b[0m\u001b[0;34m\u001b[0m\u001b[0;34m\u001b[0m\u001b[0m\n\u001b[1;32m    964\u001b[0m     \u001b[0;32melse\u001b[0m\u001b[0;34m:\u001b[0m\u001b[0;34m\u001b[0m\u001b[0;34m\u001b[0m\u001b[0m\n\u001b[0;32m--> 965\u001b[0;31m         \u001b[0;32mreturn\u001b[0m \u001b[0mgetblock\u001b[0m\u001b[0;34m(\u001b[0m\u001b[0mlines\u001b[0m\u001b[0;34m[\u001b[0m\u001b[0mlnum\u001b[0m\u001b[0;34m:\u001b[0m\u001b[0;34m]\u001b[0m\u001b[0;34m)\u001b[0m\u001b[0;34m,\u001b[0m \u001b[0mlnum\u001b[0m \u001b[0;34m+\u001b[0m \u001b[0;36m1\u001b[0m\u001b[0;34m\u001b[0m\u001b[0;34m\u001b[0m\u001b[0m\n\u001b[0m\u001b[1;32m    966\u001b[0m \u001b[0;34m\u001b[0m\u001b[0m\n\u001b[1;32m    967\u001b[0m \u001b[0;32mdef\u001b[0m \u001b[0mgetsource\u001b[0m\u001b[0;34m(\u001b[0m\u001b[0mobject\u001b[0m\u001b[0;34m)\u001b[0m\u001b[0;34m:\u001b[0m\u001b[0;34m\u001b[0m\u001b[0;34m\u001b[0m\u001b[0m\n",
            "\u001b[0;32m/usr/lib/python3.6/inspect.py\u001b[0m in \u001b[0;36mgetblock\u001b[0;34m(lines)\u001b[0m\n\u001b[1;32m    938\u001b[0m     \u001b[0;32mtry\u001b[0m\u001b[0;34m:\u001b[0m\u001b[0;34m\u001b[0m\u001b[0;34m\u001b[0m\u001b[0m\n\u001b[1;32m    939\u001b[0m         \u001b[0mtokens\u001b[0m \u001b[0;34m=\u001b[0m \u001b[0mtokenize\u001b[0m\u001b[0;34m.\u001b[0m\u001b[0mgenerate_tokens\u001b[0m\u001b[0;34m(\u001b[0m\u001b[0miter\u001b[0m\u001b[0;34m(\u001b[0m\u001b[0mlines\u001b[0m\u001b[0;34m)\u001b[0m\u001b[0;34m.\u001b[0m\u001b[0m__next__\u001b[0m\u001b[0;34m)\u001b[0m\u001b[0;34m\u001b[0m\u001b[0;34m\u001b[0m\u001b[0m\n\u001b[0;32m--> 940\u001b[0;31m         \u001b[0;32mfor\u001b[0m \u001b[0m_token\u001b[0m \u001b[0;32min\u001b[0m \u001b[0mtokens\u001b[0m\u001b[0;34m:\u001b[0m\u001b[0;34m\u001b[0m\u001b[0;34m\u001b[0m\u001b[0m\n\u001b[0m\u001b[1;32m    941\u001b[0m             \u001b[0mblockfinder\u001b[0m\u001b[0;34m.\u001b[0m\u001b[0mtokeneater\u001b[0m\u001b[0;34m(\u001b[0m\u001b[0;34m*\u001b[0m\u001b[0m_token\u001b[0m\u001b[0;34m)\u001b[0m\u001b[0;34m\u001b[0m\u001b[0;34m\u001b[0m\u001b[0m\n\u001b[1;32m    942\u001b[0m     \u001b[0;32mexcept\u001b[0m \u001b[0;34m(\u001b[0m\u001b[0mEndOfBlock\u001b[0m\u001b[0;34m,\u001b[0m \u001b[0mIndentationError\u001b[0m\u001b[0;34m)\u001b[0m\u001b[0;34m:\u001b[0m\u001b[0;34m\u001b[0m\u001b[0;34m\u001b[0m\u001b[0m\n",
            "\u001b[0;32m/usr/lib/python3.6/tokenize.py\u001b[0m in \u001b[0;36m_tokenize\u001b[0;34m(readline, encoding)\u001b[0m\n\u001b[1;32m    604\u001b[0m \u001b[0;34m\u001b[0m\u001b[0m\n\u001b[1;32m    605\u001b[0m         \u001b[0;32mwhile\u001b[0m \u001b[0mpos\u001b[0m \u001b[0;34m<\u001b[0m \u001b[0mmax\u001b[0m\u001b[0;34m:\u001b[0m\u001b[0;34m\u001b[0m\u001b[0;34m\u001b[0m\u001b[0m\n\u001b[0;32m--> 606\u001b[0;31m             \u001b[0mpseudomatch\u001b[0m \u001b[0;34m=\u001b[0m \u001b[0m_compile\u001b[0m\u001b[0;34m(\u001b[0m\u001b[0mPseudoToken\u001b[0m\u001b[0;34m)\u001b[0m\u001b[0;34m.\u001b[0m\u001b[0mmatch\u001b[0m\u001b[0;34m(\u001b[0m\u001b[0mline\u001b[0m\u001b[0;34m,\u001b[0m \u001b[0mpos\u001b[0m\u001b[0;34m)\u001b[0m\u001b[0;34m\u001b[0m\u001b[0;34m\u001b[0m\u001b[0m\n\u001b[0m\u001b[1;32m    607\u001b[0m             \u001b[0;32mif\u001b[0m \u001b[0mpseudomatch\u001b[0m\u001b[0;34m:\u001b[0m                                \u001b[0;31m# scan for tokens\u001b[0m\u001b[0;34m\u001b[0m\u001b[0;34m\u001b[0m\u001b[0m\n\u001b[1;32m    608\u001b[0m                 \u001b[0mstart\u001b[0m\u001b[0;34m,\u001b[0m \u001b[0mend\u001b[0m \u001b[0;34m=\u001b[0m \u001b[0mpseudomatch\u001b[0m\u001b[0;34m.\u001b[0m\u001b[0mspan\u001b[0m\u001b[0;34m(\u001b[0m\u001b[0;36m1\u001b[0m\u001b[0;34m)\u001b[0m\u001b[0;34m\u001b[0m\u001b[0;34m\u001b[0m\u001b[0m\n",
            "\u001b[0;31mKeyboardInterrupt\u001b[0m: "
          ]
        }
      ]
    },
    {
      "cell_type": "code",
      "metadata": {
        "id": "CH4xNZimBLIQ",
        "colab_type": "code",
        "outputId": "8f8fc369-da6d-4037-c041-7e1f2181f343",
        "colab": {
          "base_uri": "https://localhost:8080/",
          "height": 231
        }
      },
      "source": [
        "from ax.utils.notebook.plotting import render, init_notebook_plotting\n",
        "from ax.plot.contour import plot_contour\n",
        "\n",
        "\n",
        "render(plot_contour(model=model, param_x='learning_rate_factor', param_y='learning_rate_abs', metric_name='training-error'))\n",
        "# render(plot_contour(model=model, param_x='lr', param_y='beta1', metric_name='training-error'))\n",
        "# render(plot_contour(model=model, param_x='beta1', param_y='beta2', metric_name='training-error'))\n",
        "# render(plot_contour(model=model, param_x='lr', param_y='beta2', metric_name='training-error'))"
      ],
      "execution_count": 11,
      "outputs": [
        {
          "output_type": "error",
          "ename": "NameError",
          "evalue": "ignored",
          "traceback": [
            "\u001b[0;31m---------------------------------------------------------------------------\u001b[0m",
            "\u001b[0;31mNameError\u001b[0m                                 Traceback (most recent call last)",
            "\u001b[0;32m<ipython-input-11-569bb33d4e3c>\u001b[0m in \u001b[0;36m<module>\u001b[0;34m()\u001b[0m\n\u001b[1;32m      3\u001b[0m \u001b[0;34m\u001b[0m\u001b[0m\n\u001b[1;32m      4\u001b[0m \u001b[0;34m\u001b[0m\u001b[0m\n\u001b[0;32m----> 5\u001b[0;31m \u001b[0mrender\u001b[0m\u001b[0;34m(\u001b[0m\u001b[0mplot_contour\u001b[0m\u001b[0;34m(\u001b[0m\u001b[0mmodel\u001b[0m\u001b[0;34m=\u001b[0m\u001b[0mmodel\u001b[0m\u001b[0;34m,\u001b[0m \u001b[0mparam_x\u001b[0m\u001b[0;34m=\u001b[0m\u001b[0;34m'learning_rate_factor'\u001b[0m\u001b[0;34m,\u001b[0m \u001b[0mparam_y\u001b[0m\u001b[0;34m=\u001b[0m\u001b[0;34m'learning_rate_abs'\u001b[0m\u001b[0;34m,\u001b[0m \u001b[0mmetric_name\u001b[0m\u001b[0;34m=\u001b[0m\u001b[0;34m'training-error'\u001b[0m\u001b[0;34m)\u001b[0m\u001b[0;34m)\u001b[0m\u001b[0;34m\u001b[0m\u001b[0;34m\u001b[0m\u001b[0m\n\u001b[0m\u001b[1;32m      6\u001b[0m \u001b[0;31m# render(plot_contour(model=model, param_x='lr', param_y='beta1', metric_name='training-error'))\u001b[0m\u001b[0;34m\u001b[0m\u001b[0;34m\u001b[0m\u001b[0;34m\u001b[0m\u001b[0m\n\u001b[1;32m      7\u001b[0m \u001b[0;31m# render(plot_contour(model=model, param_x='beta1', param_y='beta2', metric_name='training-error'))\u001b[0m\u001b[0;34m\u001b[0m\u001b[0;34m\u001b[0m\u001b[0;34m\u001b[0m\u001b[0m\n",
            "\u001b[0;31mNameError\u001b[0m: name 'model' is not defined"
          ]
        }
      ]
    },
    {
      "cell_type": "markdown",
      "metadata": {
        "id": "J_jn9Wxmabpb",
        "colab_type": "text"
      },
      "source": [
        "Use the best parameters found by the bayesion optimization to train a network."
      ]
    },
    {
      "cell_type": "code",
      "metadata": {
        "colab_type": "code",
        "outputId": "89135136-b08c-4673-de4e-8ad37102a04a",
        "id": "y7Agm0uKZdmn",
        "colab": {
          "base_uri": "https://localhost:8080/",
          "height": 357
        }
      },
      "source": [
        "net = SuperResolutionNet(r, activation=nn.ReLU())\n",
        "train(net, use_gpu, train_loader, r,\n",
        "                 max_epochs=1000,\n",
        "                 max_epochs_without_improvement=100, \n",
        "                 learning_rate=best_parameters['lr'],\n",
        "                 beta1=best_parameters['beta1'],\n",
        "                 beta2=best_parameters['beta2'],\n",
        "                 )\n",
        "evaluate(net)"
      ],
      "execution_count": 0,
      "outputs": [
        {
          "output_type": "stream",
          "text": [
            "Running on gpu\n",
            "Epoch:   0 in 0.39s, best epoch so far: Epoch:   0 Training Loss: 0.088246 Mean PSNR: 10.54\n"
          ],
          "name": "stdout"
        },
        {
          "output_type": "stream",
          "text": [
            "/usr/local/lib/python3.6/dist-packages/torch/serialization.py:360: UserWarning:\n",
            "\n",
            "Couldn't retrieve source code for container of type SuperResolutionNet. It won't be checked for correctness upon loading.\n",
            "\n"
          ],
          "name": "stderr"
        },
        {
          "output_type": "stream",
          "text": [
            "Epoch: 100 in 32.96s, best epoch so far: Epoch: 100 Training Loss: 0.002135 Mean PSNR: 26.71\n",
            "Epoch: 200 in 65.27s, best epoch so far: Epoch: 185 Training Loss: 0.001792 Mean PSNR: 27.47\n",
            "Epoch: 300 in 97.24s, best epoch so far: Epoch: 288 Training Loss: 0.001633 Mean PSNR: 27.87\n",
            "Epoch: 400 in 129.17s, best epoch so far: Epoch: 394 Training Loss: 0.001551 Mean PSNR: 28.10\n",
            "Epoch: 500 in 160.99s, best epoch so far: Epoch: 481 Training Loss: 0.001466 Mean PSNR: 28.34\n",
            "Epoch: 600 in 193.08s, best epoch so far: Epoch: 598 Training Loss: 0.001384 Mean PSNR: 28.59\n",
            "Epoch: 700 in 224.81s, best epoch so far: Epoch: 690 Training Loss: 0.001367 Mean PSNR: 28.64\n",
            "Epoch: 800 in 256.64s, best epoch so far: Epoch: 777 Training Loss: 0.001326 Mean PSNR: 28.77\n",
            "Epoch: 900 in 288.72s, best epoch so far: Epoch: 889 Training Loss: 0.001308 Mean PSNR: 28.84\n",
            "Saving best epoch (994) with loss: 0.0012854222453745972 and psnr: 28.9095418850852 as:\n",
            "SuperResulutionNet_r-3_psnr-2891__mse-13-unknown\n",
            "r: 3\n",
            "test_data/Set5 psnr: 30.021906725381985\n",
            "test_data/Set14 psnr: 26.845566130359053\n"
          ],
          "name": "stdout"
        }
      ]
    }
  ]
}