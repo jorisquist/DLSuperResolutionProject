{
 "cells": [
  {
   "cell_type": "markdown",
   "metadata": {
    "colab_type": "text",
    "id": "dszZp3-0TlDX"
   },
   "source": [
    "# Real-Time Single Image and Video Super-Resolution Using an Efficient Sub-Pixel Convolutional Neural Network\n",
    "\n",
    "In this notebook we reproduce some results of the Super Resolution paper [1] in PyTorch.\n",
    "\n",
    "[1] Ledig, C., Theis, L., Huszár, F., Caballero, J., Cunningham, A., Acosta, A., ... & Shi, W. (2017). Photo-realistic single image super-resolution using a generative adversarial network. In _Proceedings of the IEEE conference on computer vision and pattern recognition (pp. 4681-4690)_."
   ]
  },
  {
   "cell_type": "markdown",
   "metadata": {
    "colab_type": "text",
    "id": "Mi7a5iu6vHg6"
   },
   "source": [
    "## Pre-processing: Loading datasets\n",
    "In a first step we download all the required datasets."
   ]
  },
  {
   "cell_type": "code",
   "execution_count": null,
   "metadata": {
    "colab": {
     "base_uri": "https://localhost:8080/",
     "height": 1000
    },
    "colab_type": "code",
    "executionInfo": {
     "elapsed": 14398,
     "status": "ok",
     "timestamp": 1584371697260,
     "user": {
      "displayName": "Lars Peschke",
      "photoUrl": "",
      "userId": "02724369657141719952"
     },
     "user_tz": -60
    },
    "id": "IB7wrWhfTkwh",
    "outputId": "8ce5c414-cfc7-464f-ebf9-2794985e8c0e",
    "pycharm": {
     "is_executing": true
    }
   },
   "outputs": [],
   "source": [
    "import requests\n",
    "\n",
    "url_91 = (\"https://drive.google.com/uc?export=download&id=1eVfd2Snh5bCl0ulMsRE4ker_p-o1M_lm\")\n",
    "url_set5 = (\"https://drive.google.com/uc?export=download&id=1Cr4puJ1UpkXrGpzdpqZLNhZiZ2vaimoi\")\n",
    "url_set14 = (\"https://drive.google.com/uc?export=download&id=1PQus6Glc3VsfVIywG6MAMBBBZVyyF_gB\")\n",
    "\n",
    "\n",
    "# Download data from Google drive and store as zip.\n",
    "def download_url(url, save_path, chunk_size=128):\n",
    "    r = requests.get(url, stream=True)\n",
    "    with open(save_path, \"wb\") as fd:\n",
    "        for chunk in r.iter_content(chunk_size=chunk_size):\n",
    "            fd.write(chunk)\n",
    "\n",
    "\n",
    "download_url(url_91, \"./91.zip\")\n",
    "download_url(url_set5, \"./set5.zip\")\n",
    "download_url(url_set14, \"./set14.zip\")\n",
    "\n",
    "from zipfile import ZipFile\n",
    "\n",
    "with ZipFile(\"91.zip\", \"r\") as zipObj:\n",
    "    zipObj.extractall(\"./train_data\")\n",
    "\n",
    "with ZipFile(\"set5.zip\", \"r\") as zipObj:\n",
    "    zipObj.extractall(\"./test_data\")\n",
    "\n",
    "with ZipFile(\"set14.zip\", \"r\") as zipObj:\n",
    "    zipObj.extractall(\"./test_data\")\n"
   ]
  },
  {
   "cell_type": "markdown",
   "metadata": {},
   "source": [
    "## Pre-processing: Prepare trainingset\n",
    "We load in the training set using our custom loader. This loader also up/downscales the images."
   ]
  },
  {
   "cell_type": "code",
   "execution_count": 103,
   "metadata": {
    "pycharm": {
     "is_executing": true
    }
   },
   "outputs": [],
   "source": [
    "from skimage import io\n",
    "from os import listdir\n",
    "from torch.utils.data import Dataset\n",
    "import torchvision\n",
    "import torchvision.transforms as transforms\n",
    "import matplotlib.pyplot as plt\n",
    "import numpy as np\n",
    "import PIL\n",
    "\n",
    "\n",
    "class SuperResolutionDataset(Dataset):\n",
    "    def __init__(self, root_dir, upscale_factor, use_gpu=False, testing=False):\n",
    "        self.testing = testing \n",
    "        self.use_gpu = use_gpu\n",
    "        self.root_dir = root_dir\n",
    "        self.upscale_factor = upscale_factor\n",
    "        self.images = [\n",
    "            f\n",
    "            for f in listdir(self.root_dir)\n",
    "            if f.endswith(\".bmp\") or f.endswith(\".jpg\")\n",
    "        ]\n",
    "        self.data = list()\n",
    "        for image_name in self.images:\n",
    "            self.data.append(self.get_data_from_image(image_name))\n",
    "            \n",
    "#         if use_gpu:\n",
    "#             for i in range(len(self.data)):\n",
    "#                 self.data[i] = (self.data[i][0].cuda(), self.data[i][1].cuda())\n",
    "                \n",
    "        \n",
    "    def __len__(self):\n",
    "        return len(self.images)\n",
    "\n",
    "    def __getitem__(self, item):\n",
    "        image = self.data[item][0]\n",
    "        \n",
    "        h, w = -1, -1\n",
    "        if self.testing:\n",
    "            h, w = len(image), len(image[0])\n",
    "        else:\n",
    "            h, w = 256, 256\n",
    "        \n",
    "        cropped_h = h - (h % self.upscale_factor)\n",
    "        cropped_w = w - (w % self.upscale_factor)\n",
    "\n",
    "        \n",
    "        intermediate_transform = transforms.Compose([\n",
    "                transforms.ToPILImage(),\n",
    "                transforms.RandomCrop([cropped_h, cropped_w], pad_if_needed=True),\n",
    "            ])\n",
    "\n",
    "        input_transform = transforms.Compose([\n",
    "                transforms.Resize(\n",
    "                    [\n",
    "                        int(cropped_h // self.upscale_factor),\n",
    "                        int(cropped_w // self.upscale_factor),\n",
    "                    ],\n",
    "                    PIL.Image.BICUBIC,\n",
    "                ),\n",
    "                transforms.ToTensor(),\n",
    "            ])\n",
    "        \n",
    "        intermediate_img = intermediate_transform(image)\n",
    "        target_img = transforms.ToTensor()(intermediate_img)\n",
    "        input_img = input_transform(intermediate_img)\n",
    "        \n",
    "        if use_gpu:\n",
    "                input_img = input_img.cuda()\n",
    "                target_img = target_img.cuda()\n",
    "        \n",
    "        return input_img, target_img\n",
    "\n",
    "    def get_data_from_image(self, image_name):\n",
    "        image = io.imread(self.root_dir + \"/\" + image_name)\n",
    "\n",
    "        target_image = image\n",
    "        input_image = image\n",
    "\n",
    "        return input_image, target_image\n",
    "\n",
    "    def imshow_input(self, idx):\n",
    "        img, _ = transforms.ToTensor()(self.__getitem__(idx))\n",
    "        img = torchvision.utils.make_grid(img)\n",
    "        npimg = img.numpy()\n",
    "        plt.imshow(np.transpose(npimg, (1, 2, 0)))\n",
    "        plt.show()\n",
    "\n",
    "    def imshow_target(self, idx):\n",
    "        _, img = transforms.ToTensor()(self.__getitem__(idx))\n",
    "        img = torchvision.utils.make_grid(img)\n",
    "        npimg = img.numpy()\n",
    "        plt.imshow(np.transpose(npimg, (1, 2, 0)))\n",
    "        plt.show()\n"
   ]
  },
  {
   "cell_type": "markdown",
   "metadata": {},
   "source": [
    "The goal of this Deep Learning network is to upscale the image resolution. Therefore for our training set we first downscale the input. In the example below you see the input image for different upscale factors (9 and 3 respectively) whereas the target image is the image we want to retrieve in the end."
   ]
  },
  {
   "cell_type": "code",
   "execution_count": 8,
   "metadata": {
    "pycharm": {
     "is_executing": true
    }
   },
   "outputs": [
    {
     "name": "stdout",
     "output_type": "stream",
     "text": [
      "Input image (Up-scale factor 9): \n"
     ]
    },
    {
     "data": {
      "image/png": "[encoded data removed]",
      "text/plain": [
       "<Figure size 432x288 with 1 Axes>"
      ]
     },
     "metadata": {
      "needs_background": "light"
     },
     "output_type": "display_data"
    },
    {
     "name": "stdout",
     "output_type": "stream",
     "text": [
      "Input image (Up-scale factor 3): \n"
     ]
    },
    {
     "data": {
      "image/png": "[encoded data removed]",
      "text/plain": [
       "<Figure size 432x288 with 1 Axes>"
      ]
     },
     "metadata": {
      "needs_background": "light"
     },
     "output_type": "display_data"
    }
   ],
   "source": [
    "trainExample9 = SuperResolutionDataset(\"train_data/Set91\", 9)\n",
    "print(\"Input image (Up-scale factor 9): \")\n",
    "trainExample9.imshow_input(0)\n",
    "\n",
    "trainExample3 = SuperResolutionDataset(\"train_data/Set91\", 3)\n",
    "print(\"Input image (Up-scale factor 3): \")\n",
    "trainExample3.imshow_input(0)"
   ]
  },
  {
   "cell_type": "code",
   "execution_count": 9,
   "metadata": {
    "pycharm": {
     "is_executing": true
    }
   },
   "outputs": [
    {
     "name": "stdout",
     "output_type": "stream",
     "text": [
      "Target image: \n"
     ]
    },
    {
     "data": {
      "image/png": "[encoded data removed]",
      "text/plain": [
       "<Figure size 432x288 with 1 Axes>"
      ]
     },
     "metadata": {
      "needs_background": "light"
     },
     "output_type": "display_data"
    }
   ],
   "source": [
    "print(\"Target image: \")\n",
    "trainExample9.imshow_target(0)"
   ]
  },
  {
   "cell_type": "markdown",
   "metadata": {},
   "source": [
    "## Network Architecture"
   ]
  },
  {
   "cell_type": "code",
   "execution_count": null,
   "metadata": {
    "pycharm": {
     "is_executing": true
    }
   },
   "outputs": [],
   "source": [
    "import torch.nn as nn\n",
    "\n",
    "\n",
    "class SuperResolutionNet(nn.Module):\n",
    "    def __init__(self, r, l=3, activation=nn.Identity()):\n",
    "        super().__init__()\n",
    "        self.l = l\n",
    "        self.r = r\n",
    "\n",
    "        self.activation = activation\n",
    "\n",
    "        self.conv1 = nn.Conv2d(3, 64, 5, padding=(2, 2))\n",
    "        self.conv2 = nn.Conv2d(64, 64, 3, padding=1)\n",
    "        self.conv3 = nn.Conv2d(64, 32, 3, padding=1)\n",
    "        self.conv4 = nn.Conv2d(32, self.r * self.r * 3, 3, padding=1)\n",
    "\n",
    "        self.deconvolution = nn.PixelShuffle(self.r)\n",
    "\n",
    "        self.params = [self.conv1, self.conv2, self.conv3, self.conv4]\n",
    "\n",
    "        self.l = l  # The number of hidden layers\n",
    "\n",
    "    def forward(self, x):\n",
    "        for i in range(self.l):\n",
    "            x = self.activation(self.params[i](x))\n",
    "\n",
    "        x = self.params[self.l](\n",
    "            x\n",
    "        )  # Don't use the activation on the last convolutional layer\n",
    "        x = self.deconvolution(x)\n",
    "\n",
    "        return x"
   ]
  },
  {
   "cell_type": "markdown",
   "metadata": {},
   "source": [
    "## Training Network\n",
    "Function to train a certain network with a certain data loader and hyperparameters"
   ]
  },
  {
   "cell_type": "code",
   "execution_count": 25,
   "metadata": {},
   "outputs": [],
   "source": [
    "import os\n",
    "import time\n",
    "\n",
    "def train(net, use_gpu, train_loader, r,\n",
    "          learning_rate=0.001,\n",
    "          max_epochs_without_improvement=100,\n",
    "          max_epochs=1000,\n",
    "          print_output=True):\n",
    "\n",
    "    # Decide to use GPU or not.\n",
    "    if use_gpu:\n",
    "        net = net.cuda()\n",
    "        print('Running on gpu')\n",
    "\n",
    "    # Set loss function and optimizer.\n",
    "    loss_function = nn.MSELoss()\n",
    "    optimizer = optim.Adam(net.parameters(), lr=learning_rate)\n",
    "\n",
    "    # Save computer name to use when storing network\n",
    "    computer_name = os.environ['COMPUTERNAME']\n",
    "\n",
    "    # Initialize loss.\n",
    "    lowest_loss = (0, float('inf'))\n",
    "    highest_psnr = - float('inf')\n",
    "\n",
    "    begin_time = time.time()\n",
    "    minimum_psnr_to_save = 20\n",
    "\n",
    "    # Start training.\n",
    "    for epoch in range(max_epochs):\n",
    "        train_loss = []\n",
    "\n",
    "        # Train and propagate through network.\n",
    "        net.train()\n",
    "        for input, target in train_loader:\n",
    "\n",
    "            optimizer.zero_grad()\n",
    "\n",
    "            output = net(input)\n",
    "\n",
    "            loss = loss_function(output, target)\n",
    "\n",
    "            loss.backward()\n",
    "\n",
    "            optimizer.step()\n",
    "\n",
    "            train_loss.append(loss.item())\n",
    "\n",
    "        mean_train_loss = np.mean(train_loss)\n",
    "        mean_psnr = mse_to_psnr(mean_train_loss)\n",
    "\n",
    "        # Update the lowest loss if necessary.\n",
    "        if mean_train_loss < lowest_loss[1]:\n",
    "            #print(f\"Epoch: {epoch: >3} Training Loss: {mean_train_loss:.6f} Mean PSNR: {mean_psnr:.2f} in {time.time() - begin_time:.2f}s #\")\n",
    "            lowest_loss = (epoch, mean_train_loss)\n",
    "            highest_psnr = mean_psnr\n",
    "\n",
    "            #If the psnr is above some threshold save this new best network.\n",
    "            if highest_psnr > minimum_psnr_to_save:\n",
    "                torch.save(net, f'SuperResulutionNet_best_of_run-{computer_name}')\n",
    "\n",
    "        if epoch % 100 == 0 and print_output:\n",
    "            print(\n",
    "                f\"Epoch: {epoch: >3} in {time.time() - begin_time:.2f}s, best epoch so far: Epoch: {epoch: >3} Training Loss: {mean_train_loss:.6f} Mean PSNR: {mean_psnr:.2f}\")\n",
    "\n",
    "        # If we didn't improve for some amount of epoch, lets stop.\n",
    "        if epoch > lowest_loss[0] + max_epochs_without_improvement:\n",
    "            if print_output:\n",
    "                print(f\"No improvement for the last {max_epochs_without_improvement} epochs, so stopping training...\")\n",
    "            break\n",
    "\n",
    "    net.eval()\n",
    "    if highest_psnr >= minimum_psnr_to_save:\n",
    "        network_name = f'SuperResulutionNet_r-{r}_psnr-{int(round(highest_psnr * 100))}__mse-{int(round(lowest_loss[1] * 10000))}-{computer_name}'\n",
    "        old_file = os.path.join(\".\", f'SuperResulutionNet_best_of_run-{computer_name}')\n",
    "        new_file = os.path.join(\".\", network_name)\n",
    "        if print_output:\n",
    "            print(f'Saving best epoch ({lowest_loss[0]}) with loss: {lowest_loss[1]} and psnr: {highest_psnr} as:')\n",
    "            print(network_name)\n",
    "        os.rename(old_file, new_file)\n",
    "    elif print_output::\n",
    "        print(\"Not high enough psnr to save the network...\")\n",
    "\n",
    "    return lowest_loss[1]"
   ]
  },
  {
   "cell_type": "code",
   "execution_count": null,
   "metadata": {
    "pycharm": {
     "is_executing": true
    }
   },
   "outputs": [
    {
     "name": "stdout",
     "output_type": "stream",
     "text": [
      "Running on gpu\n",
      "Epoch:   0 in 0.68s, best epoch so far: Epoch:   0 Training Loss: 0.044561 Mean PSNR: 13.51\n",
      "Epoch: 100 in 77.43s, best epoch so far: Epoch: 100 Training Loss: 0.001736 Mean PSNR: 27.61\n"
     ]
    }
   ],
   "source": [
    "use_gpu = torch.cuda.is_available()\n",
    "\n",
    "# Batch size.\n",
    "bs = 2\n",
    "\n",
    "# Upscale factor.\n",
    "r = 3\n",
    "\n",
    "# Amount of epochs.\n",
    "epochs = 20\n",
    "\n",
    "# Getting image data\n",
    "transform = transforms.Compose([transforms.ToTensor()])  # ,\n",
    "\n",
    "# Load the training data.\n",
    "training_set = SuperResolutionDataset(\"train_data/Set91\", r, use_gpu=use_gpu)\n",
    "\n",
    "train_loader = torch.utils.data.DataLoader(\n",
    "    training_set, batch_size=bs, shuffle=True, num_workers=0\n",
    ")\n",
    "\n",
    "# Initialize the network.\n",
    "net = SuperResolutionNet(r, activation=nn.ReLU())\n",
    "\n",
    "train(net, use_gpu, train_loader, r)"
   ]
  },
  {
   "cell_type": "code",
   "execution_count": null,
   "metadata": {},
   "outputs": [],
   "source": []
  },
  {
   "cell_type": "markdown",
   "metadata": {},
   "source": [
    "## Evaluation"
   ]
  },
  {
   "cell_type": "code",
   "execution_count": 123,
   "metadata": {
    "pycharm": {
     "is_executing": true
    }
   },
   "outputs": [],
   "source": [
    "import math\n",
    "\n",
    "import PIL\n",
    "import matplotlib.pyplot as plt\n",
    "import torch\n",
    "from torch import nn\n",
    "from torchvision import transforms\n",
    "from os import listdir\n",
    "\n",
    "# from SuperResolutionDataset import SuperResolutionDataset\n",
    "import numpy as np\n",
    "\n",
    "\n",
    "def imshow(img):\n",
    "    npimg = img.numpy()\n",
    "    plt.figure()\n",
    "    plt.imshow(np.transpose(npimg, (1, 2, 0)))\n",
    "    plt.show()\n",
    "\n",
    "def evaluate_by_name(network_name):\n",
    "    net = torch.load(network_name)\n",
    "    evaluate(net)\n",
    "    \n",
    "def evaluate(network):\n",
    "    r = net.r\n",
    "    print(f\"r: {r}\")\n",
    "\n",
    "    use_gpu = torch.cuda.is_available()\n",
    "\n",
    "    test_set_paths = [\"test_data/\" + f for f in listdir(\"test_data\")]\n",
    "#     test_set_paths = [\"test_data/Custom\"]\n",
    "\n",
    "    for path in test_set_paths:\n",
    "        psnr = []\n",
    "        test_set = SuperResolutionDataset(path, r, use_gpu=use_gpu, testing=False)\n",
    "\n",
    "\n",
    "        test_loader = torch.utils.data.DataLoader(test_set,\n",
    "                                                  batch_size=1,\n",
    "                                                  shuffle=True,\n",
    "                                                  num_workers=0)\n",
    "\n",
    "\n",
    "        for input, target in iter(test_loader):\n",
    "            if use_gpu:\n",
    "                input = input.cuda()\n",
    "                target = target.cuda()\n",
    "\n",
    "            if input.size()[1] == 1:\n",
    "                input = input.repeat(1, 3, 1, 1)\n",
    "\n",
    "            output = net(input)\n",
    "\n",
    "\n",
    "            if use_gpu:\n",
    "                input = input.cpu()\n",
    "                output = output.cpu()\n",
    "                target = target.cpu()\n",
    "\n",
    "\n",
    "            bicubic = transforms.Compose([\n",
    "                transforms.ToPILImage(),\n",
    "                transforms.Resize([int(r * input.size()[2]),\n",
    "                                   int(r * input.size()[3])],\n",
    "                                  PIL.Image.BICUBIC),\n",
    "                transforms.ToTensor()\n",
    "            ])\n",
    "            bicubic_upscaled = bicubic(input[0])\n",
    "\n",
    "            nearest_neighbour = transforms.Compose([\n",
    "                transforms.ToPILImage(),\n",
    "                transforms.Resize([int(r * input.size()[2]),\n",
    "                                   int(r * input.size()[3])],\n",
    "                                  PIL.Image.NEAREST),\n",
    "                transforms.ToTensor()\n",
    "            ])\n",
    "\n",
    "            input = nearest_neighbour(input[0])\n",
    "            output = torch.clamp(output.detach(), 0, 1)\n",
    "\n",
    "\n",
    "            if target.size()[1] == 1:\n",
    "                target = target.repeat(1, 3, 1, 1)\n",
    "\n",
    "            mse_loss = nn.MSELoss()\n",
    "            psnr.append(10 * math.log10(1. / mse_loss(output, target).item()))\n",
    "\n",
    "            images = [input, target[0], output.detach()[0], bicubic_upscaled]\n",
    "\n",
    "#             imshow(torchvision.utils.make_grid(images))\n",
    "\n",
    "        print(f\"{path} psnr: {np.mean(psnr)}\")\n",
    "\n",
    "    # plt.show()"
   ]
  },
  {
   "cell_type": "code",
   "execution_count": 121,
   "metadata": {
    "pycharm": {
     "is_executing": true
    }
   },
   "outputs": [
    {
     "name": "stdout",
     "output_type": "stream",
     "text": [
      "r: 3\n",
      "test_data/BSD300 psnr: 23.391842096438534\n",
      "test_data/BSD500 psnr: 23.32647689647426\n",
      "test_data/Custom psnr: 22.772759494380924\n",
      "test_data/Set14 psnr: 22.688553209018608\n",
      "test_data/Set5 psnr: 23.747014425667313\n",
      "test_data/SuperTexture psnr: 21.186218156106662\n"
     ]
    }
   ],
   "source": [
    "evaluate(net)"
   ]
  },
  {
   "cell_type": "code",
   "execution_count": 124,
   "metadata": {},
   "outputs": [
    {
     "name": "stdout",
     "output_type": "stream",
     "text": [
      "r: 3\n",
      "test_data/BSD300 psnr: 22.764210268052036\n",
      "test_data/BSD500 psnr: 22.717572154261305\n",
      "test_data/Custom psnr: 23.86945576995477\n",
      "test_data/Set14 psnr: 22.25212764313012\n",
      "test_data/Set5 psnr: 23.606596387170093\n",
      "test_data/SuperTexture psnr: 21.072878666297683\n"
     ]
    }
   ],
   "source": [
    "evaluate_by_name('SuperResulutionNet_r-3_psnr-3030__mse-10-JORIS-LAPTOP')"
   ]
  },
  {
   "cell_type": "markdown",
   "metadata": {},
   "source": [
    "### Finding Hyperparameters"
   ]
  },
  {
   "cell_type": "code",
   "execution_count": 120,
   "metadata": {},
   "outputs": [
    {
     "name": "stderr",
     "output_type": "stream",
     "text": [
      "[INFO 04-15 19:05:22] ax.modelbridge.dispatch_utils: Using Bayesian Optimization generation strategy: GenerationStrategy(name='Sobol+GPEI', steps=[Sobol for 5 trials, GPEI for subsequent trials]). Iterations after 5 will take longer to generate due to  model-fitting.\n",
      "[INFO 04-15 19:05:22] ax.service.managed_loop: Started full optimization with 20 steps.\n",
      "[INFO 04-15 19:05:22] ax.service.managed_loop: Running optimization trial 1...\n"
     ]
    },
    {
     "name": "stdout",
     "output_type": "stream",
     "text": [
      "Running on gpu\n",
      "Epoch:   0 in 0.43s, best epoch so far: Epoch:   0 Training Loss: 661.587508 Mean PSNR: -28.21\n"
     ]
    },
    {
     "name": "stderr",
     "output_type": "stream",
     "text": [
      "[INFO 04-15 19:05:26] ax.service.managed_loop: Running optimization trial 2...\n"
     ]
    },
    {
     "name": "stdout",
     "output_type": "stream",
     "text": [
      "Not high enough psnr to save the network...\n",
      "Running on gpu\n",
      "Epoch:   0 in 0.43s, best epoch so far: Epoch:   0 Training Loss: 652323551.025304 Mean PSNR: -88.14\n"
     ]
    },
    {
     "name": "stderr",
     "output_type": "stream",
     "text": [
      "[INFO 04-15 19:05:30] ax.service.managed_loop: Running optimization trial 3...\n"
     ]
    },
    {
     "name": "stdout",
     "output_type": "stream",
     "text": [
      "Not high enough psnr to save the network...\n",
      "Running on gpu\n",
      "Epoch:   0 in 0.46s, best epoch so far: Epoch:   0 Training Loss: 10919.349786 Mean PSNR: -40.38\n"
     ]
    },
    {
     "name": "stderr",
     "output_type": "stream",
     "text": [
      "[INFO 04-15 19:05:35] ax.service.managed_loop: Running optimization trial 4...\n"
     ]
    },
    {
     "name": "stdout",
     "output_type": "stream",
     "text": [
      "Not high enough psnr to save the network...\n",
      "Running on gpu\n",
      "Epoch:   0 in 0.46s, best epoch so far: Epoch:   0 Training Loss: 13.237754 Mean PSNR: -11.22\n"
     ]
    },
    {
     "name": "stderr",
     "output_type": "stream",
     "text": [
      "[INFO 04-15 19:05:40] ax.service.managed_loop: Running optimization trial 5...\n"
     ]
    },
    {
     "name": "stdout",
     "output_type": "stream",
     "text": [
      "Not high enough psnr to save the network...\n",
      "Running on gpu\n",
      "Epoch:   0 in 0.46s, best epoch so far: Epoch:   0 Training Loss: 0.907618 Mean PSNR: 0.42\n"
     ]
    },
    {
     "name": "stderr",
     "output_type": "stream",
     "text": [
      "[INFO 04-15 19:05:44] ax.service.managed_loop: Running optimization trial 6...\n"
     ]
    },
    {
     "name": "stdout",
     "output_type": "stream",
     "text": [
      "Not high enough psnr to save the network...\n",
      "Running on gpu\n",
      "Epoch:   0 in 0.52s, best epoch so far: Epoch:   0 Training Loss: 0.184334 Mean PSNR: 7.34\n"
     ]
    },
    {
     "name": "stderr",
     "output_type": "stream",
     "text": [
      "[INFO 04-15 19:05:51] ax.service.managed_loop: Running optimization trial 7...\n"
     ]
    },
    {
     "name": "stdout",
     "output_type": "stream",
     "text": [
      "Not high enough psnr to save the network...\n",
      "Running on gpu\n",
      "Epoch:   0 in 0.53s, best epoch so far: Epoch:   0 Training Loss: 0.187620 Mean PSNR: 7.27\n"
     ]
    },
    {
     "name": "stderr",
     "output_type": "stream",
     "text": [
      "[INFO 04-15 19:05:57] ax.service.managed_loop: Running optimization trial 8...\n"
     ]
    },
    {
     "name": "stdout",
     "output_type": "stream",
     "text": [
      "Not high enough psnr to save the network...\n",
      "Running on gpu\n",
      "Epoch:   0 in 0.49s, best epoch so far: Epoch:   0 Training Loss: 0.162959 Mean PSNR: 7.88\n"
     ]
    },
    {
     "name": "stderr",
     "output_type": "stream",
     "text": [
      "[INFO 04-15 19:06:04] ax.service.managed_loop: Running optimization trial 9...\n"
     ]
    },
    {
     "name": "stdout",
     "output_type": "stream",
     "text": [
      "Not high enough psnr to save the network...\n",
      "Running on gpu\n",
      "Epoch:   0 in 0.47s, best epoch so far: Epoch:   0 Training Loss: 0.191882 Mean PSNR: 7.17\n"
     ]
    },
    {
     "name": "stderr",
     "output_type": "stream",
     "text": [
      "[INFO 04-15 19:06:11] ax.service.managed_loop: Running optimization trial 10...\n"
     ]
    },
    {
     "name": "stdout",
     "output_type": "stream",
     "text": [
      "Not high enough psnr to save the network...\n",
      "Running on gpu\n",
      "Epoch:   0 in 0.47s, best epoch so far: Epoch:   0 Training Loss: 0.183558 Mean PSNR: 7.36\n"
     ]
    },
    {
     "name": "stderr",
     "output_type": "stream",
     "text": [
      "[INFO 04-15 19:06:18] ax.service.managed_loop: Running optimization trial 11...\n"
     ]
    },
    {
     "name": "stdout",
     "output_type": "stream",
     "text": [
      "Not high enough psnr to save the network...\n",
      "Running on gpu\n",
      "Epoch:   0 in 0.46s, best epoch so far: Epoch:   0 Training Loss: 0.158504 Mean PSNR: 8.00\n"
     ]
    },
    {
     "name": "stderr",
     "output_type": "stream",
     "text": [
      "[INFO 04-15 19:06:25] ax.service.managed_loop: Running optimization trial 12...\n"
     ]
    },
    {
     "name": "stdout",
     "output_type": "stream",
     "text": [
      "Not high enough psnr to save the network...\n",
      "Running on gpu\n",
      "Epoch:   0 in 0.48s, best epoch so far: Epoch:   0 Training Loss: 0.203509 Mean PSNR: 6.91\n"
     ]
    },
    {
     "name": "stderr",
     "output_type": "stream",
     "text": [
      "[INFO 04-15 19:06:31] ax.service.managed_loop: Running optimization trial 13...\n"
     ]
    },
    {
     "name": "stdout",
     "output_type": "stream",
     "text": [
      "Not high enough psnr to save the network...\n",
      "Running on gpu\n",
      "Epoch:   0 in 0.52s, best epoch so far: Epoch:   0 Training Loss: 79.843066 Mean PSNR: -19.02\n"
     ]
    },
    {
     "name": "stderr",
     "output_type": "stream",
     "text": [
      "[INFO 04-15 19:06:38] ax.service.managed_loop: Running optimization trial 14...\n"
     ]
    },
    {
     "name": "stdout",
     "output_type": "stream",
     "text": [
      "Not high enough psnr to save the network...\n",
      "Running on gpu\n",
      "Epoch:   0 in 0.47s, best epoch so far: Epoch:   0 Training Loss: 0.189241 Mean PSNR: 7.23\n"
     ]
    },
    {
     "name": "stderr",
     "output_type": "stream",
     "text": [
      "[INFO 04-15 19:06:44] ax.service.managed_loop: Running optimization trial 15...\n"
     ]
    },
    {
     "name": "stdout",
     "output_type": "stream",
     "text": [
      "Not high enough psnr to save the network...\n",
      "Running on gpu\n",
      "Epoch:   0 in 0.53s, best epoch so far: Epoch:   0 Training Loss: 0.167131 Mean PSNR: 7.77\n"
     ]
    },
    {
     "name": "stderr",
     "output_type": "stream",
     "text": [
      "[INFO 04-15 19:06:51] ax.service.managed_loop: Running optimization trial 16...\n"
     ]
    },
    {
     "name": "stdout",
     "output_type": "stream",
     "text": [
      "Not high enough psnr to save the network...\n",
      "Running on gpu\n",
      "Epoch:   0 in 0.47s, best epoch so far: Epoch:   0 Training Loss: 0.120707 Mean PSNR: 9.18\n"
     ]
    },
    {
     "name": "stderr",
     "output_type": "stream",
     "text": [
      "[INFO 04-15 19:06:58] ax.service.managed_loop: Running optimization trial 17...\n"
     ]
    },
    {
     "name": "stdout",
     "output_type": "stream",
     "text": [
      "Not high enough psnr to save the network...\n",
      "Running on gpu\n",
      "Epoch:   0 in 0.50s, best epoch so far: Epoch:   0 Training Loss: 0.189520 Mean PSNR: 7.22\n"
     ]
    },
    {
     "name": "stderr",
     "output_type": "stream",
     "text": [
      "[INFO 04-15 19:07:05] ax.service.managed_loop: Running optimization trial 18...\n"
     ]
    },
    {
     "name": "stdout",
     "output_type": "stream",
     "text": [
      "Not high enough psnr to save the network...\n",
      "Running on gpu\n",
      "Epoch:   0 in 0.48s, best epoch so far: Epoch:   0 Training Loss: 0.888247 Mean PSNR: 0.51\n"
     ]
    },
    {
     "name": "stderr",
     "output_type": "stream",
     "text": [
      "[INFO 04-15 19:07:11] ax.service.managed_loop: Running optimization trial 19...\n"
     ]
    },
    {
     "name": "stdout",
     "output_type": "stream",
     "text": [
      "Not high enough psnr to save the network...\n",
      "Running on gpu\n",
      "Epoch:   0 in 0.49s, best epoch so far: Epoch:   0 Training Loss: 0.379061 Mean PSNR: 4.21\n"
     ]
    },
    {
     "name": "stderr",
     "output_type": "stream",
     "text": [
      "[INFO 04-15 19:07:18] ax.service.managed_loop: Running optimization trial 20...\n"
     ]
    },
    {
     "name": "stdout",
     "output_type": "stream",
     "text": [
      "Not high enough psnr to save the network...\n",
      "Running on gpu\n",
      "Epoch:   0 in 0.52s, best epoch so far: Epoch:   0 Training Loss: 0.189467 Mean PSNR: 7.22\n",
      "Not high enough psnr to save the network...\n",
      "{'lr': 0.000809319118385673} ({'objective': 0.022316000075264006}, {'objective': {'objective': 3.0093466393446977e-09}}) SimpleExperiment(None) <ax.modelbridge.torch.TorchModelBridge object at 0x000002259C217D88>\n"
     ]
    }
   ],
   "source": [
    "from ax import optimize\n",
    "\n",
    "def train_evaluate(parameters):\n",
    "    use_gpu = torch.cuda.is_available()\n",
    "    bs = 32\n",
    "    r = 3\n",
    "\n",
    "    training_set = SuperResolutionDataset('train_data/Set91', r, use_gpu=use_gpu)\n",
    "    # training_set = SuperResolutionDataset('test_data/BSD500', r, use_gpu=use_gpu)\n",
    "\n",
    "    train_loader = torch.utils.data.DataLoader(\n",
    "        training_set, batch_size=bs, shuffle=True, num_workers=0\n",
    "    )\n",
    "\n",
    "    # Initialize the network.\n",
    "    net = SuperResolutionNet(r, activation=nn.ReLU())\n",
    "\n",
    "    return train(net, use_gpu, train_loader, r, max_epochs=10, max_epochs_without_improvement=10, learning_rate=parameters['lr'])\n",
    "\n",
    "\n",
    "best_parameters, best_values, experiment, model = optimize(\n",
    "        parameters=[\n",
    "            {\"name\": \"lr\", \"type\": \"range\", \"bounds\": [1e-6, 0.4], \"log_scale\": True},\n",
    "        ],\n",
    "        # Booth function\n",
    "        evaluation_function=train_evaluate,\n",
    "        minimize=True,\n",
    "    )\n",
    "\n",
    "print(best_parameters, best_values, experiment, model)"
   ]
  },
  {
   "cell_type": "code",
   "execution_count": null,
   "metadata": {},
   "outputs": [],
   "source": []
  }
 ],
 "metadata": {
  "accelerator": "GPU",
  "colab": {
   "collapsed_sections": [],
   "name": "SuperResolution.ipynb",
   "provenance": [
    {
     "file_id": "/v2/external/notebooks/mlcc/first_steps_with_tensor_flow.ipynb",
     "timestamp": 1553209469878
    }
   ]
  },
  "kernelspec": {
   "display_name": "Python 3",
   "language": "python",
   "name": "python3"
  },
  "language_info": {
   "codemirror_mode": {
    "name": "ipython",
    "version": 3
   },
   "file_extension": ".py",
   "mimetype": "text/x-python",
   "name": "python",
   "nbconvert_exporter": "python",
   "pygments_lexer": "ipython3",
   "version": "3.7.6"
  },
  "pycharm": {
   "stem_cell": {
    "cell_type": "raw",
    "metadata": {
     "collapsed": false
    },
    "source": []
   }
  }
 },
 "nbformat": 4,
 "nbformat_minor": 1
}
